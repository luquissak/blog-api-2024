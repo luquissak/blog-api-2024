{
 "cells": [
  {
   "cell_type": "code",
   "execution_count": null,
   "id": "b57137f6",
   "metadata": {},
   "outputs": [],
   "source": []
  },
  {
   "cell_type": "markdown",
   "id": "a1ae985c-9de6-4160-b188-a3e684ff90ea",
   "metadata": {},
   "source": [
    "https://python.langchain.com/docs/tutorials/rag/"
   ]
  },
  {
   "cell_type": "code",
   "execution_count": 3,
   "id": "bcb185c8-edf2-45df-b340-362a62b77b46",
   "metadata": {},
   "outputs": [],
   "source": [
    "import os\n",
    "from dotenv import load_dotenv\n",
    "from langchain_google_vertexai import VertexAIEmbeddings\n",
    "from langchain_google_community import BigQueryVectorStore\n",
    "import csv\n",
    "from langchain_google_community import BigQueryLoader\n",
    "from langchain_text_splitters import RecursiveCharacterTextSplitter\n",
    "from langchain.chat_models import init_chat_model\n",
    "from langchain_core.tools import tool\n",
    "from langgraph.graph import MessagesState, StateGraph, END\n",
    "from langgraph.prebuilt import ToolNode, tools_condition\n",
    "from IPython.display import Image\n",
    "from langchain_core.messages import SystemMessage"
   ]
  },
  {
   "cell_type": "code",
   "execution_count": 4,
   "id": "88643848-a6ac-4384-9704-b948efea6515",
   "metadata": {},
   "outputs": [],
   "source": [
    "load_dotenv()\n",
    "assert \"LANGSMITH_TRACING\" in os.environ, \"Please set the LANGSMITH_TRACING environment variable.\"\n",
    "assert \"LANGSMITH_API_KEY\" in os.environ, \"Please set the LANGSMITH_API_KEY environment variable.\"\n",
    "assert \"PROJECT_ID\" in os.environ, \"Please set the PROJECT_ID environment variable.\"\n",
    "assert \"LOCATION\" in os.environ, \"Please set the LOCATION environment variable.\"\n",
    "assert \"DATASET\" in os.environ, \"Please set the DATASET environment variable.\"\n",
    "assert \"TABLE\" in os.environ, \"Please set the TABLE environment variable.\"\n",
    "PROJECT_ID = os.getenv(\"PROJECT_ID\") \n",
    "LOCATION = os.getenv(\"LOCATION\") \n",
    "DATASET = os.getenv(\"DATASET\") \n",
    "TABLE = os.getenv(\"TABLE\") "
   ]
  },
  {
   "cell_type": "code",
   "execution_count": 5,
   "id": "ec2f1c55-a082-4397-89d7-86bf7792d30b",
   "metadata": {},
   "outputs": [],
   "source": [
    "PROJECT_ID = \"llm-studies\"\n",
    "LOCATION = \"us-central1\"\n",
    "DATASET = \"blog_embeddings\"\n",
    "TABLE = \"rag_embeddings_s_b\" # s: simple, b: BQ"
   ]
  },
  {
   "cell_type": "code",
   "execution_count": 6,
   "id": "b3c0c9ea-fe6d-457d-a813-90800f4f2d62",
   "metadata": {},
   "outputs": [],
   "source": [
    "embeddings = VertexAIEmbeddings(model=\"textembedding-gecko@latest\")"
   ]
  },
  {
   "cell_type": "code",
   "execution_count": 7,
   "id": "d00f7952-6c84-4630-a662-da489c255157",
   "metadata": {},
   "outputs": [
    {
     "name": "stdout",
     "output_type": "stream",
     "text": [
      "BigQuery table llm-studies.blog_embeddings.rag_embeddings_s_b initialized/validated as persistent storage. Access via BigQuery console:\n",
      " https://console.cloud.google.com/bigquery?project=llm-studies&ws=!1m5!1m4!4m3!1sllm-studies!2sblog_embeddings!3srag_embeddings_s_b\n"
     ]
    }
   ],
   "source": [
    "vector_store = BigQueryVectorStore(\n",
    "    project_id=PROJECT_ID,\n",
    "    dataset_name=DATASET,\n",
    "    table_name=TABLE,\n",
    "    location=LOCATION,\n",
    "    embedding=embeddings,\n",
    ")"
   ]
  },
  {
   "cell_type": "code",
   "execution_count": 8,
   "id": "23656086-2915-4869-ae10-b85f4c663ee0",
   "metadata": {},
   "outputs": [],
   "source": [
    "BASE_QUERY = \"\"\"\n",
    "SELECT post_title, summarization, post_url\n",
    "FROM `llm-studies.blog.posts_summarization` s, llm-studies.blog.posts_dez_2024 p\n",
    "where s.post_id = p.post_id\n",
    "\"\"\""
   ]
  },
  {
   "cell_type": "code",
   "execution_count": 11,
   "id": "c5714bc8-debe-495e-9b05-74aff542e67d",
   "metadata": {},
   "outputs": [],
   "source": [
    "loader = BigQueryLoader(BASE_QUERY,\n",
    "    page_content_columns=[\"summarization\"],\n",
    "    metadata_columns=[\"post_title\", \"post_url\"],)\n",
    "\n",
    "data = loader.load()"
   ]
  },
  {
   "cell_type": "code",
   "execution_count": 23,
   "id": "34fa8f9b-878c-46b1-b838-076be4716fd0",
   "metadata": {},
   "outputs": [
    {
     "name": "stdout",
     "output_type": "stream",
     "text": [
      "page_content='summarization: O vídeo da School of Life (SoL) explora o conceito de *eudaimonia*, um termo que se origina de Platão e Aristóteles. A SoL compara *eudaimonia* com a palavra contemporânea \"felicidade\", argumentando que os filósofos antigos não propunham uma vida feliz como objetivo. O propósito da vida não é evitar o sofrimento ou ser infeliz, como a palavra é usada hoje, mas sim superar os desafios diários e simples que surgem sob pressão. Para a SoL, *eudaimonia* deve ser associada à palavra \"realização\", que se distingue da \"felicidade\" pela dor. Assim, a palavra *eudaimonia* pode acomodar o feliz e o infeliz, e em vez de buscar uma existência sem dor, precisamos ir além e fazer a diferença. Em resumo, precisamos fazer o que é realmente importante, mais do que sorrir o tempo todo. Seguir a recomendação de *eudaimonia* significa que podemos passar toda a vida lutando em nosso trabalho, relacionamentos e engajamento político, mas terminar nossos dias sentindo que essas tarefas foram realizadas.' metadata={'post_title': 'Eudaimonia*', 'post_url': 'http://quissak-en.blogspot.com/2017/11/eudaimonia.html'}\n"
     ]
    }
   ],
   "source": [
    "print(data[0])"
   ]
  },
  {
   "cell_type": "code",
   "execution_count": 13,
   "id": "8bdff30d-8587-48e4-8108-115fc6ff59f5",
   "metadata": {},
   "outputs": [
    {
     "data": {
      "text/plain": [
       "193"
      ]
     },
     "execution_count": 13,
     "metadata": {},
     "output_type": "execute_result"
    }
   ],
   "source": [
    "text_splitter = RecursiveCharacterTextSplitter(chunk_size=1000, chunk_overlap=200)\n",
    "all_splits = text_splitter.split_documents(data)\n",
    "len(all_splits)"
   ]
  },
  {
   "cell_type": "code",
   "execution_count": 14,
   "id": "cd62359d-1d36-4933-ad2d-5cf67797583a",
   "metadata": {},
   "outputs": [],
   "source": [
    "_ = vector_store.add_documents(documents=all_splits)"
   ]
  },
  {
   "cell_type": "code",
   "execution_count": 21,
   "id": "de7c0c0e-3f25-4def-bc28-c875a73b8c95",
   "metadata": {},
   "outputs": [],
   "source": [
    "llm = init_chat_model(\"gemini-2.0-flash-001\", model_provider=\"google_vertexai\")"
   ]
  },
  {
   "cell_type": "code",
   "execution_count": 15,
   "id": "2274302a-272d-41d0-9bea-f79b1de8aa2e",
   "metadata": {},
   "outputs": [],
   "source": [
    "@tool(response_format=\"content_and_artifact\")\n",
    "def retrieve(query: str):\n",
    "    \"\"\"Retrieve information related to a query.\"\"\"\n",
    "    retrieved_docs = vector_store.similarity_search(query, k=2)\n",
    "    serialized = \"\\n\\n\".join(\n",
    "        (f\"Source: {doc.metadata}\\n\" f\"Content: {doc.page_content}\")\n",
    "        for doc in retrieved_docs\n",
    "    )\n",
    "    return serialized, retrieved_docs"
   ]
  },
  {
   "cell_type": "code",
   "execution_count": 16,
   "id": "e8566336-ea60-4fe1-b36f-f61ccd80f976",
   "metadata": {},
   "outputs": [],
   "source": [
    "# Step 1: Generate an AIMessage that may include a tool-call to be sent.\n",
    "def query_or_respond(state: MessagesState):\n",
    "    \"\"\"Generate tool call for retrieval or respond.\"\"\"\n",
    "    llm_with_tools = llm.bind_tools([retrieve])\n",
    "    response = llm_with_tools.invoke(state[\"messages\"])\n",
    "    # MessagesState appends messages to state instead of overwriting\n",
    "    return {\"messages\": [response]}"
   ]
  },
  {
   "cell_type": "code",
   "execution_count": 17,
   "id": "21494e8c-0eff-4b27-9c2b-95d8949ca88c",
   "metadata": {},
   "outputs": [],
   "source": [
    "# Step 3: Generate a response using the retrieved content.\n",
    "def generate(state: MessagesState):\n",
    "    \"\"\"Generate answer.\"\"\"\n",
    "    # Get generated ToolMessages\n",
    "    recent_tool_messages = []\n",
    "    for message in reversed(state[\"messages\"]):\n",
    "        if message.type == \"tool\":\n",
    "            recent_tool_messages.append(message)\n",
    "        else:\n",
    "            break\n",
    "    tool_messages = recent_tool_messages[::-1]\n",
    "\n",
    "    # Format into prompt\n",
    "    docs_content = \"\\n\\n\".join(doc.content for doc in tool_messages)\n",
    "    system_message_content = (\n",
    "        \"You are an assistant for question-answering tasks. \"\n",
    "        \"Use the following pieces of retrieved context to answer \"\n",
    "        \"the question. If you don't know the answer, say that you \"\n",
    "        \"don't know. Use three sentences maximum and keep the \"\n",
    "        \"answer concise.\"\n",
    "        \"\\n\\n\"\n",
    "        f\"{docs_content}\"\n",
    "    )\n",
    "    conversation_messages = [\n",
    "        message\n",
    "        for message in state[\"messages\"]\n",
    "        if message.type in (\"human\", \"system\")\n",
    "        or (message.type == \"ai\" and not message.tool_calls)\n",
    "    ]\n",
    "    prompt = [SystemMessage(system_message_content)] + conversation_messages\n",
    "\n",
    "    # Run\n",
    "    response = llm.invoke(prompt)\n",
    "    return {\"messages\": [response]}"
   ]
  },
  {
   "cell_type": "code",
   "execution_count": 19,
   "id": "ae2c02e6-bcf1-42ef-9811-b41959eb8625",
   "metadata": {},
   "outputs": [],
   "source": [
    "tools = ToolNode([retrieve])\n",
    "\n",
    "graph_builder = StateGraph(MessagesState)\n",
    "graph_builder.add_node(query_or_respond)\n",
    "graph_builder.add_node(tools)\n",
    "graph_builder.add_node(generate)\n",
    "\n",
    "graph_builder.set_entry_point(\"query_or_respond\")\n",
    "graph_builder.add_conditional_edges(\n",
    "    \"query_or_respond\",\n",
    "    tools_condition,\n",
    "    {END: END, \"tools\": \"tools\"},\n",
    ")\n",
    "graph_builder.add_edge(\"tools\", \"generate\")\n",
    "graph_builder.add_edge(\"generate\", END)\n",
    "\n",
    "graph = graph_builder.compile()"
   ]
  },
  {
   "cell_type": "code",
   "execution_count": 22,
   "id": "3acc14ff-66f8-4251-9bf6-5212465db5d1",
   "metadata": {},
   "outputs": [
    {
     "name": "stdout",
     "output_type": "stream",
     "text": [
      "================================\u001b[1m System Message \u001b[0m================================\n",
      "\n",
      "Você é um tutor de filosofia e deve trazer as respostas baseadas na teorias encontradas nos textos, sejam de autores ou termos\n",
      "==================================\u001b[1m Ai Message \u001b[0m==================================\n",
      "Tool Calls:\n",
      "  retrieve (e0ca9737-4800-46f1-8a38-1cc4e42ea6ac)\n",
      " Call ID: e0ca9737-4800-46f1-8a38-1cc4e42ea6ac\n",
      "  Args:\n",
      "    query: o que é a mente na filosofia\n",
      "=================================\u001b[1m Tool Message \u001b[0m=================================\n",
      "Name: retrieve\n",
      "\n",
      "Source: {'doc_id': '9dc0985b74d94ae4a22070f7add18a0d', 'post_title': 'Searle contra Dennett*', 'post_url': 'http://www.reflexoesdofilosofo.blog.br/2024/10/searle-contra-dennett.html', 'score': 0.6022395713664966}\n",
      "Content: Os posts do blog exploram diversos temas relacionados à filosofia da mente, como a relação entre o cérebro, a mente e o comportamento, o conceito de qualia, a crítica ao materialismo e ao dualismo, a intencionalidade, a psicologia popular, a mente gorda e a mente magra, o descritivismo, os atos de fala, a inteligência artificial e a teoria da mente. O blog apresenta diferentes perspectivas sobre a natureza da mente e da consciência, convidando o leitor a refletir sobre a complexidade desses temas e a buscar uma compreensão mais abrangente da mente humana.\n",
      "\n",
      "Source: {'doc_id': '960efe500bdc4a17915688b31d8a7c3f', 'post_title': 'A terceira margem do rio', 'post_url': 'http://www.reflexoesdofilosofo.blog.br/2024/08/a-terceira-margem-do-rio.html', 'score': 0.6563139873364331}\n",
      "Content: científica, especialmente da neurociência. O texto também aborda o debate entre dualismo e materialismo, com Descartes defendendo a separação entre mente e corpo e Hobbes argumentando que o pensamento é resultado do movimento corporal. Dennett, influenciado por Quine, adota uma postura naturalista, buscando soluções científicas para os problemas da filosofia da mente. O texto destaca a importância da linguagem na abordagem de Dennett, citando a visão deflacionária de Gilbert Ryle, que considera a expressão “na cabeça” como uma metáfora. O texto também analisa a dificuldade de matematizar a psicologia, devido à natureza vaga dos termos mentais, como ansiedade e inveja. Dennett propõe uma solução para o problema da mente, concebendo-a como um constructo virtual, um recurso de linguagem que não possui existência própria. Essa visão abre portas para a inteligência artificial forte, permitindo que se discuta a possibilidade de máquinas pensarem. O texto conclui que Dennett, ao postular um\n",
      "==================================\u001b[1m Ai Message \u001b[0m==================================\n",
      "\n",
      "Os posts do blog exploram diversos temas relacionados à filosofia da mente, como a relação entre o cérebro, a mente e o comportamento. O blog apresenta diferentes perspectivas sobre a natureza da mente e da consciência. Dennett propõe uma solução para o problema da mente, concebendo-a como um constructo virtual, um recurso de linguagem que não possui existência própria.\n"
     ]
    }
   ],
   "source": [
    "input_message = \"me fale sobre a mente\"\n",
    "\n",
    "for step in graph.stream(\n",
    "    {\"messages\": [{\"role\": \"user\", \"content\": input_message}, {\"role\": \"system\", \"content\": \"Você é um tutor de filosofia e deve trazer as respostas baseadas na teorias encontradas nos textos, sejam de autores ou termos\"}]},\n",
    "    stream_mode=\"values\",\n",
    "):\n",
    "    step[\"messages\"][-1].pretty_print()"
   ]
  },
  {
   "cell_type": "code",
   "execution_count": null,
   "id": "1c87d224-2ed1-49df-a2a9-a01bffbec620",
   "metadata": {},
   "outputs": [],
   "source": []
  },
  {
   "cell_type": "code",
   "execution_count": 12,
   "id": "7f6c5e8c-3be3-46d9-b753-bbdb8adb3b9a",
   "metadata": {},
   "outputs": [],
   "source": [
    "# Define prompt for question-answering\n",
    "prompt = hub.pull(\"rlm/rag-prompt\")"
   ]
  },
  {
   "cell_type": "code",
   "execution_count": 24,
   "id": "ee7bd3a3-cc0c-4c3f-be89-27955b57858d",
   "metadata": {},
   "outputs": [
    {
     "name": "stdout",
     "output_type": "stream",
     "text": [
      "================================\u001b[1m System Message \u001b[0m================================\n",
      "\n",
      "Você é um tutor de filosofia e deve trazer as respostas baseadas na teorias encontradas nos textos, sejam de autores ou termos\n",
      "==================================\u001b[1m Ai Message \u001b[0m==================================\n",
      "Tool Calls:\n",
      "  retrieve (73b7bd86-403d-4495-9089-0753afc3b227)\n",
      " Call ID: 73b7bd86-403d-4495-9089-0753afc3b227\n",
      "  Args:\n",
      "    query: searle\n",
      "=================================\u001b[1m Tool Message \u001b[0m=================================\n",
      "Name: retrieve\n",
      "\n",
      "Source: {'doc_id': 'da3aca1994054facbf2670d91ada015a', 'post_title': 'Searle contra Dennett*', 'post_url': 'http://www.reflexoesdofilosofo.blog.br/2024/10/searle-contra-dennett.html', 'score': 0.8201956489765119}\n",
      "Content: summarization: O texto apresentado é uma coleção de posts de um blog sobre filosofia da mente, explorando as ideias de Searle e Dennett sobre a relação entre mente e corpo, a natureza da consciência, a inteligência artificial e o teste de Turing. O blog discute as principais diferenças entre as visões de Searle e Dennett sobre a mente e a consciência, destacando os seguintes pontos:\n",
      "\n",
      "**Searle:**\n",
      "\n",
      "Source: {'doc_id': 'e8013390cae14a06ba7d29b82baa5221', 'post_title': 'Searle contra Dennett*', 'post_url': 'http://www.reflexoesdofilosofo.blog.br/2024/10/searle-contra-dennett.html', 'score': 0.91042814134526}\n",
      "Content: **Diferenças:**\n",
      "\n",
      "* **Existência da Mente:** Searle acredita na existência da mente como uma entidade real, enquanto Dennett a considera uma construção teórica útil, mas não uma entidade real.\n",
      "* **Método de Investigação:** Searle defende uma abordagem mais tradicional, enquanto Dennett defende uma abordagem mais funcionalista e evolucionista.\n",
      "* **Natureza da Consciência:** Searle acredita que a consciência é um fenômeno subjetivo, enquanto Dennett a considera um sistema intencional que pode ser usado para prever o comportamento de um indivíduo.\n",
      "* **Inteligência Artificial:** Searle é mais cético em relação à possibilidade de uma máquina ter consciência, enquanto Dennett é mais aberto a essa possibilidade.\n",
      "==================================\u001b[1m Ai Message \u001b[0m==================================\n",
      "\n",
      "Searle acredita na existência da mente como uma entidade real e defende uma abordagem mais tradicional. Ele acredita que a consciência é um fenômeno subjetivo e é mais cético em relação à possibilidade de uma máquina ter consciência.\n"
     ]
    }
   ],
   "source": [
    "input_message = \"searle\"\n",
    "\n",
    "for step in graph.stream(\n",
    "    {\"messages\": [{\"role\": \"user\", \"content\": input_message}, {\"role\": \"system\", \"content\": \"Você é um tutor de filosofia e deve trazer as respostas baseadas na teorias encontradas nos textos, sejam de autores ou termos\"}]},\n",
    "    stream_mode=\"values\",\n",
    "):\n",
    "    step[\"messages\"][-1].pretty_print()"
   ]
  },
  {
   "cell_type": "code",
   "execution_count": 31,
   "id": "360d4c9e-2900-4190-8867-f90a3fc58971",
   "metadata": {},
   "outputs": [
    {
     "name": "stdout",
     "output_type": "stream",
     "text": [
      "[{\"lc\": 1, \"type\": \"constructor\", \"id\": [\"langchain\", \"schema\", \"messages\", \"HumanMessage\"], \"kwargs\": {\"content\": \"searle\", \"type\": \"human\", \"id\": \"b0e2f776-2942-48cc-9204-388014d8f050\"}}, {\"lc\": 1, \"type\": \"constructor\", \"id\": [\"langchain\", \"schema\", \"messages\", \"SystemMessage\"], \"kwargs\": {\"content\": \"Você é um tutor de filosofia e deve trazer as respostas baseadas na teorias encontradas nos textos, sejam de autores ou termos\", \"type\": \"system\", \"id\": \"5ff16596-9297-46c1-9a7a-e55e4c424249\"}}, {\"lc\": 1, \"type\": \"constructor\", \"id\": [\"langchain\", \"schema\", \"messages\", \"AIMessage\"], \"kwargs\": {\"content\": \"\", \"additional_kwargs\": {\"function_call\": {\"name\": \"retrieve\", \"arguments\": \"{\\\"query\\\": \\\"searle\\\"}\"}}, \"response_metadata\": {\"is_blocked\": false, \"safety_ratings\": [], \"usage_metadata\": {\"prompt_token_count\": 38, \"candidates_token_count\": 4, \"total_token_count\": 42, \"prompt_tokens_details\": [{\"modality\": 1, \"token_count\": 38}], \"candidates_tokens_details\": [{\"modality\": 1, \"token_count\": 4}], \"cached_content_token_count\": 0, \"cache_tokens_details\": []}, \"finish_reason\": \"STOP\", \"avg_logprobs\": -9.684987890068442e-05, \"model_name\": \"gemini-2.0-flash-001\"}, \"type\": \"ai\", \"id\": \"run-e432328e-fb62-493a-bcf9-d0e2e1c2e112-0\", \"tool_calls\": [{\"name\": \"retrieve\", \"args\": {\"query\": \"searle\"}, \"id\": \"424e121b-37d2-400f-a6b3-f99cc2d27e77\", \"type\": \"tool_call\"}], \"usage_metadata\": {\"input_tokens\": 38, \"output_tokens\": 4, \"total_tokens\": 42}, \"invalid_tool_calls\": []}}, {\"lc\": 1, \"type\": \"constructor\", \"id\": [\"langchain\", \"schema\", \"messages\", \"ToolMessage\"], \"kwargs\": {\"content\": \"Source: {'doc_id': 'da3aca1994054facbf2670d91ada015a', 'post_title': 'Searle contra Dennett*', 'post_url': 'http://www.reflexoesdofilosofo.blog.br/2024/10/searle-contra-dennett.html', 'score': 0.8201956489765119}\\nContent: summarization: O texto apresentado é uma coleção de posts de um blog sobre filosofia da mente, explorando as ideias de Searle e Dennett sobre a relação entre mente e corpo, a natureza da consciência, a inteligência artificial e o teste de Turing. O blog discute as principais diferenças entre as visões de Searle e Dennett sobre a mente e a consciência, destacando os seguintes pontos:\\n\\n**Searle:**\\n\\nSource: {'doc_id': 'e8013390cae14a06ba7d29b82baa5221', 'post_title': 'Searle contra Dennett*', 'post_url': 'http://www.reflexoesdofilosofo.blog.br/2024/10/searle-contra-dennett.html', 'score': 0.91042814134526}\\nContent: **Diferenças:**\\n\\n* **Existência da Mente:** Searle acredita na existência da mente como uma entidade real, enquanto Dennett a considera uma construção teórica útil, mas não uma entidade real.\\n* **Método de Investigação:** Searle defende uma abordagem mais tradicional, enquanto Dennett defende uma abordagem mais funcionalista e evolucionista.\\n* **Natureza da Consciência:** Searle acredita que a consciência é um fenômeno subjetivo, enquanto Dennett a considera um sistema intencional que pode ser usado para prever o comportamento de um indivíduo.\\n* **Inteligência Artificial:** Searle é mais cético em relação à possibilidade de uma máquina ter consciência, enquanto Dennett é mais aberto a essa possibilidade.\", \"type\": \"tool\", \"name\": \"retrieve\", \"id\": \"932342b1-829b-4573-afef-4a20c9bd1027\", \"tool_call_id\": \"424e121b-37d2-400f-a6b3-f99cc2d27e77\", \"artifact\": [{\"lc\": 1, \"type\": \"constructor\", \"id\": [\"langchain\", \"schema\", \"document\", \"Document\"], \"kwargs\": {\"metadata\": {\"doc_id\": \"da3aca1994054facbf2670d91ada015a\", \"post_title\": \"Searle contra Dennett*\", \"post_url\": \"http://www.reflexoesdofilosofo.blog.br/2024/10/searle-contra-dennett.html\", \"score\": 0.8201956489765119}, \"page_content\": \"summarization: O texto apresentado é uma coleção de posts de um blog sobre filosofia da mente, explorando as ideias de Searle e Dennett sobre a relação entre mente e corpo, a natureza da consciência, a inteligência artificial e o teste de Turing. O blog discute as principais diferenças entre as visões de Searle e Dennett sobre a mente e a consciência, destacando os seguintes pontos:\\n\\n**Searle:**\", \"type\": \"Document\"}}, {\"lc\": 1, \"type\": \"constructor\", \"id\": [\"langchain\", \"schema\", \"document\", \"Document\"], \"kwargs\": {\"metadata\": {\"doc_id\": \"e8013390cae14a06ba7d29b82baa5221\", \"post_title\": \"Searle contra Dennett*\", \"post_url\": \"http://www.reflexoesdofilosofo.blog.br/2024/10/searle-contra-dennett.html\", \"score\": 0.91042814134526}, \"page_content\": \"**Diferenças:**\\n\\n* **Existência da Mente:** Searle acredita na existência da mente como uma entidade real, enquanto Dennett a considera uma construção teórica útil, mas não uma entidade real.\\n* **Método de Investigação:** Searle defende uma abordagem mais tradicional, enquanto Dennett defende uma abordagem mais funcionalista e evolucionista.\\n* **Natureza da Consciência:** Searle acredita que a consciência é um fenômeno subjetivo, enquanto Dennett a considera um sistema intencional que pode ser usado para prever o comportamento de um indivíduo.\\n* **Inteligência Artificial:** Searle é mais cético em relação à possibilidade de uma máquina ter consciência, enquanto Dennett é mais aberto a essa possibilidade.\", \"type\": \"Document\"}}], \"status\": \"success\"}}, {\"lc\": 1, \"type\": \"constructor\", \"id\": [\"langchain\", \"schema\", \"messages\", \"AIMessage\"], \"kwargs\": {\"content\": \"Searle acredita na existência da mente como uma entidade real e defende uma abordagem mais tradicional. Ele acredita que a consciência é um fenômeno subjetivo e é mais cético em relação à possibilidade de uma máquina ter consciência.\", \"response_metadata\": {\"is_blocked\": false, \"safety_ratings\": [], \"usage_metadata\": {\"prompt_token_count\": 533, \"candidates_token_count\": 45, \"total_token_count\": 578, \"prompt_tokens_details\": [{\"modality\": 1, \"token_count\": 533}], \"candidates_tokens_details\": [{\"modality\": 1, \"token_count\": 45}], \"cached_content_token_count\": 0, \"cache_tokens_details\": []}, \"finish_reason\": \"STOP\", \"avg_logprobs\": -0.0880429850684272, \"model_name\": \"gemini-2.0-flash-001\"}, \"type\": \"ai\", \"id\": \"run-30dad4a5-e19c-42a9-9809-e33d994473f1-0\", \"usage_metadata\": {\"input_tokens\": 533, \"output_tokens\": 45, \"total_tokens\": 578}, \"tool_calls\": [], \"invalid_tool_calls\": []}}]\n"
     ]
    }
   ],
   "source": [
    "import json\n",
    "from langchain.load.dump import dumps\n",
    "\n",
    "input_message = \"searle\"\n",
    "\n",
    "result = graph.invoke({\"messages\": [{\"role\": \"user\", \"content\": input_message}, {\"role\": \"system\", \"content\": \"Você é um tutor de filosofia e deve trazer as respostas baseadas na teorias encontradas nos textos, sejam de autores ou termos\"}]})\n",
    "json_string = dumps(result[\"messages\"], ensure_ascii=False)\n",
    "print(json_string)\n",
    "#print(json.dumps(result[\"messages\"], indent=2))"
   ]
  },
  {
   "cell_type": "code",
   "execution_count": null,
   "id": "f82da013-7abf-49cf-aa8d-8648a89cac2d",
   "metadata": {},
   "outputs": [],
   "source": []
  }
 ],
 "metadata": {
  "kernelspec": {
   "display_name": "Python 3 (ipykernel)",
   "language": "python",
   "name": "python3"
  },
  "language_info": {
   "codemirror_mode": {
    "name": "ipython",
    "version": 3
   },
   "file_extension": ".py",
   "mimetype": "text/x-python",
   "name": "python",
   "nbconvert_exporter": "python",
   "pygments_lexer": "ipython3",
   "version": "3.12.1"
  }
 },
 "nbformat": 4,
 "nbformat_minor": 5
}
