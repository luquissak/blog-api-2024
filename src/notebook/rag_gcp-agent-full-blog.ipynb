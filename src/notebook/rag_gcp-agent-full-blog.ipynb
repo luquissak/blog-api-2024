{
 "cells": [
  {
   "cell_type": "code",
   "execution_count": null,
   "id": "729391c1-3cb7-46c0-80f1-e2de4992c723",
   "metadata": {},
   "outputs": [],
   "source": []
  },
  {
   "cell_type": "markdown",
   "id": "a1ae985c-9de6-4160-b188-a3e684ff90ea",
   "metadata": {},
   "source": [
    "https://python.langchain.com/docs/tutorials/rag/"
   ]
  },
  {
   "cell_type": "code",
   "execution_count": null,
   "id": "a75244bb-2653-48f7-8779-6ab49e35094e",
   "metadata": {},
   "outputs": [],
   "source": []
  },
  {
   "cell_type": "code",
   "execution_count": 1,
   "id": "ca307869-ac0c-455c-92a0-723bb0e44a2c",
   "metadata": {},
   "outputs": [
    {
     "name": "stdout",
     "output_type": "stream",
     "text": [
      "Note: you may need to restart the kernel to use updated packages.\n"
     ]
    },
    {
     "name": "stderr",
     "output_type": "stream",
     "text": [
      "WARNING: There was an error checking the latest version of pip.\n"
     ]
    }
   ],
   "source": [
    "%pip install --quiet --upgrade langchain-text-splitters langchain-community langgraph langchain-google-vertexai langchain-community faiss-cpu beautifulsoup4"
   ]
  },
  {
   "cell_type": "code",
   "execution_count": null,
   "id": "bcb185c8-edf2-45df-b340-362a62b77b46",
   "metadata": {},
   "outputs": [],
   "source": []
  },
  {
   "cell_type": "code",
   "execution_count": 20,
   "id": "3a5ca3d8-f526-4576-b417-b028d253a2ee",
   "metadata": {},
   "outputs": [],
   "source": [
    "import os\n",
    "from dotenv import load_dotenv\n",
    "import csv\n",
    "import bs4\n",
    "import faiss\n",
    "from langchain.chat_models import init_chat_model\n",
    "from langchain_google_vertexai import VertexAIEmbeddings\n",
    "from langchain_community.docstore.in_memory import InMemoryDocstore\n",
    "from langchain_community.vectorstores import FAISS\n",
    "from langchain import hub\n",
    "from langchain_core.documents import Document\n",
    "from langchain_core.messages import SystemMessage\n",
    "from langchain_core.tools import tool\n",
    "from langchain_community.document_loaders import WebBaseLoader\n",
    "from langchain_text_splitters import RecursiveCharacterTextSplitter\n",
    "from langgraph.graph import START, StateGraph, MessagesState, END\n",
    "from langgraph.prebuilt import ToolNode, tools_condition, create_react_agent\n",
    "from langgraph.checkpoint.memory import MemorySaver\n",
    "from typing_extensions import List, TypedDict\n",
    "from IPython.display import Image, display"
   ]
  },
  {
   "cell_type": "code",
   "execution_count": 2,
   "id": "88643848-a6ac-4384-9704-b948efea6515",
   "metadata": {},
   "outputs": [],
   "source": [
    "load_dotenv()\n",
    "assert \"LANGSMITH_TRACING\" in os.environ, \"Please set the LANGSMITH_TRACING environment variable.\"\n",
    "assert \"LANGSMITH_API_KEY\" in os.environ, \"Please set the LANGSMITH_API_KEY environment variable.\"\n",
    "assert \"MONGODB_COLLECTION\" in os.environ, \"Please set the MONGODB_COLLECTION environment variable.\"\n",
    "assert \"ATLAS_VECTOR_SEARCH_INDEX_NAME\" in os.environ, \"Please set the ATLAS_VECTOR_SEARCH_INDEX_NAME environment variable.\"\n",
    "MONGODB_COLLECTION = os.getenv('MONGODB_COLLECTION')\n",
    "ATLAS_VECTOR_SEARCH_INDEX_NAME = os.getenv('ATLAS_VECTOR_SEARCH_INDEX_NAME')"
   ]
  },
  {
   "cell_type": "code",
   "execution_count": 3,
   "id": "b3c0c9ea-fe6d-457d-a813-90800f4f2d62",
   "metadata": {},
   "outputs": [],
   "source": [
    "embeddings = VertexAIEmbeddings(model=\"text-embedding-004\")"
   ]
  },
  {
   "cell_type": "code",
   "execution_count": 4,
   "id": "d00f7952-6c84-4630-a662-da489c255157",
   "metadata": {},
   "outputs": [],
   "source": [
    "index = faiss.IndexFlatL2(len(embeddings.embed_query(\"hello world\")))\n",
    "\n",
    "vector_store = FAISS(\n",
    "    embedding_function=embeddings,\n",
    "    index=index,\n",
    "    docstore=InMemoryDocstore(),\n",
    "    index_to_docstore_id={},\n",
    ")"
   ]
  },
  {
   "cell_type": "code",
   "execution_count": null,
   "id": "a1be08d7-eb51-4492-8687-d6236731abdb",
   "metadata": {},
   "outputs": [],
   "source": []
  },
  {
   "cell_type": "code",
   "execution_count": 7,
   "id": "23656086-2915-4869-ae10-b85f4c663ee0",
   "metadata": {},
   "outputs": [
    {
     "name": "stdout",
     "output_type": "stream",
     "text": [
      "https://www.reflexoesdofilosofo.blog.br/2025/02/o-problema-de-parmenides.html\n"
     ]
    }
   ],
   "source": [
    "url_list = []\n",
    "with open('.//..//..//files//20250207-posts_list-red.csv', 'r') as csvfile:\n",
    "    spamreader = csv.reader(csvfile)\n",
    "    for row in spamreader:\n",
    "        url = str(row[0]).replace(\"http\",\"https\")\n",
    "        url_list.append(url)\n",
    "print(url_list[0])"
   ]
  },
  {
   "cell_type": "code",
   "execution_count": 8,
   "id": "eee5b9ab-0487-4aab-acdf-e0edb077b6f3",
   "metadata": {},
   "outputs": [],
   "source": [
    "urls = [\n",
    "    \"https://www.reflexoesdofilosofo.blog.br/2024/08/a-terceira-margem-do-rio.html\",\n",
    "    \"https://www.reflexoesdofilosofo.blog.br/2024/09/uma-teoria-da-mente.html\",\n",
    "    \"https://www.reflexoesdofilosofo.blog.br/2025/02/o-problema-de-parmenides.html\",\n",
    "]"
   ]
  },
  {
   "cell_type": "code",
   "execution_count": 9,
   "id": "f2f75dbb-8c3c-47a3-9930-b2fe39ccebda",
   "metadata": {},
   "outputs": [
    {
     "data": {
      "text/plain": [
       "435"
      ]
     },
     "execution_count": 9,
     "metadata": {},
     "output_type": "execute_result"
    }
   ],
   "source": [
    "loader = WebBaseLoader(\n",
    "    web_paths=(url_list),\n",
    "    bs_kwargs=dict(\n",
    "        parse_only=bs4.SoupStrainer(\n",
    "            class_=(\"post hentry uncustomized-post-template\", \"post-title entry-title\", \"post-header\")\n",
    "        )\n",
    "    ),\n",
    ")\n",
    "docs = loader.load()\n",
    "len(docs)"
   ]
  },
  {
   "cell_type": "code",
   "execution_count": 10,
   "id": "8bdff30d-8587-48e4-8108-115fc6ff59f5",
   "metadata": {},
   "outputs": [
    {
     "data": {
      "text/plain": [
       "2675"
      ]
     },
     "execution_count": 10,
     "metadata": {},
     "output_type": "execute_result"
    }
   ],
   "source": [
    "text_splitter = RecursiveCharacterTextSplitter(chunk_size=1000, chunk_overlap=200)\n",
    "all_splits = text_splitter.split_documents(docs)\n",
    "len(all_splits)"
   ]
  },
  {
   "cell_type": "code",
   "execution_count": 11,
   "id": "cd62359d-1d36-4933-ad2d-5cf67797583a",
   "metadata": {},
   "outputs": [],
   "source": [
    "_ = vector_store.add_documents(documents=all_splits)"
   ]
  },
  {
   "cell_type": "code",
   "execution_count": 21,
   "id": "de7c0c0e-3f25-4def-bc28-c875a73b8c95",
   "metadata": {},
   "outputs": [],
   "source": [
    "llm = init_chat_model(\"gemini-2.0-flash-001\", model_provider=\"google_vertexai\")"
   ]
  },
  {
   "cell_type": "code",
   "execution_count": 12,
   "id": "2274302a-272d-41d0-9bea-f79b1de8aa2e",
   "metadata": {},
   "outputs": [],
   "source": [
    "@tool(response_format=\"content_and_artifact\")\n",
    "def retrieve(query: str):\n",
    "    \"\"\"Retrieve information related to a query.\"\"\"\n",
    "    retrieved_docs = vector_store.similarity_search(query, k=2)\n",
    "    serialized = \"\\n\\n\".join(\n",
    "        (f\"Source: {doc.metadata}\\n\" f\"Content: {doc.page_content}\")\n",
    "        for doc in retrieved_docs\n",
    "    )\n",
    "    return serialized, retrieved_docs"
   ]
  },
  {
   "cell_type": "code",
   "execution_count": 13,
   "id": "e8566336-ea60-4fe1-b36f-f61ccd80f976",
   "metadata": {},
   "outputs": [],
   "source": [
    "# Step 1: Generate an AIMessage that may include a tool-call to be sent.\n",
    "def query_or_respond(state: MessagesState):\n",
    "    \"\"\"Generate tool call for retrieval or respond.\"\"\"\n",
    "    llm_with_tools = llm.bind_tools([retrieve])\n",
    "    response = llm_with_tools.invoke(state[\"messages\"])\n",
    "    # MessagesState appends messages to state instead of overwriting\n",
    "    return {\"messages\": [response]}"
   ]
  },
  {
   "cell_type": "code",
   "execution_count": 14,
   "id": "21494e8c-0eff-4b27-9c2b-95d8949ca88c",
   "metadata": {},
   "outputs": [],
   "source": [
    "# Step 3: Generate a response using the retrieved content.\n",
    "def generate(state: MessagesState):\n",
    "    \"\"\"Generate answer.\"\"\"\n",
    "    # Get generated ToolMessages\n",
    "    recent_tool_messages = []\n",
    "    for message in reversed(state[\"messages\"]):\n",
    "        if message.type == \"tool\":\n",
    "            recent_tool_messages.append(message)\n",
    "        else:\n",
    "            break\n",
    "    tool_messages = recent_tool_messages[::-1]\n",
    "\n",
    "    # Format into prompt\n",
    "    docs_content = \"\\n\\n\".join(doc.content for doc in tool_messages)\n",
    "    system_message_content = (\n",
    "        \"You are an assistant for question-answering tasks. \"\n",
    "        \"Use the following pieces of retrieved context to answer \"\n",
    "        \"the question. If you don't know the answer, say that you \"\n",
    "        \"don't know. Use three sentences maximum and keep the \"\n",
    "        \"answer concise.\"\n",
    "        \"\\n\\n\"\n",
    "        f\"{docs_content}\"\n",
    "    )\n",
    "    conversation_messages = [\n",
    "        message\n",
    "        for message in state[\"messages\"]\n",
    "        if message.type in (\"human\", \"system\")\n",
    "        or (message.type == \"ai\" and not message.tool_calls)\n",
    "    ]\n",
    "    prompt = [SystemMessage(system_message_content)] + conversation_messages\n",
    "\n",
    "    # Run\n",
    "    response = llm.invoke(prompt)\n",
    "    return {\"messages\": [response]}"
   ]
  },
  {
   "cell_type": "code",
   "execution_count": null,
   "id": "6fd774d7-dc7b-4451-8af6-61ae87f48ac7",
   "metadata": {},
   "outputs": [],
   "source": []
  },
  {
   "cell_type": "code",
   "execution_count": null,
   "id": "5f363e75-b9ad-4116-a2c1-e2fd57876bb5",
   "metadata": {},
   "outputs": [],
   "source": []
  },
  {
   "cell_type": "code",
   "execution_count": 16,
   "id": "84795ad6-8bc3-4d23-acd5-102e79beecfd",
   "metadata": {},
   "outputs": [],
   "source": [
    "tools = ToolNode([retrieve])"
   ]
  },
  {
   "cell_type": "code",
   "execution_count": null,
   "id": "8aa77685-614a-4ed2-8237-3cdb16ff9a6b",
   "metadata": {},
   "outputs": [],
   "source": []
  },
  {
   "cell_type": "code",
   "execution_count": 17,
   "id": "ae2c02e6-bcf1-42ef-9811-b41959eb8625",
   "metadata": {},
   "outputs": [],
   "source": [
    "graph_builder = StateGraph(MessagesState)\n",
    "graph_builder.add_node(query_or_respond)\n",
    "graph_builder.add_node(tools)\n",
    "graph_builder.add_node(generate)\n",
    "\n",
    "graph_builder.set_entry_point(\"query_or_respond\")\n",
    "graph_builder.add_conditional_edges(\n",
    "    \"query_or_respond\",\n",
    "    tools_condition,\n",
    "    {END: END, \"tools\": \"tools\"},\n",
    ")\n",
    "graph_builder.add_edge(\"tools\", \"generate\")\n",
    "graph_builder.add_edge(\"generate\", END)\n",
    "\n",
    "graph = graph_builder.compile()"
   ]
  },
  {
   "cell_type": "code",
   "execution_count": 18,
   "id": "700c131e-9495-4928-a915-feefb7dbe850",
   "metadata": {},
   "outputs": [
    {
     "data": {
      "image/png": "[encoded data removed]",
      "text/plain": [
       "<IPython.core.display.Image object>"
      ]
     },
     "metadata": {},
     "output_type": "display_data"
    }
   ],
   "source": [
    "display(Image(graph.get_graph().draw_mermaid_png()))"
   ]
  },
  {
   "cell_type": "code",
   "execution_count": 22,
   "id": "b86133fc-28f2-4e6a-bcda-dadb8ea8ed30",
   "metadata": {},
   "outputs": [
    {
     "name": "stdout",
     "output_type": "stream",
     "text": [
      "================================\u001b[1m Human Message \u001b[0m=================================\n",
      "\n",
      "Hello\n",
      "==================================\u001b[1m Ai Message \u001b[0m==================================\n",
      "\n",
      "Hello! How can I help you today?\n"
     ]
    }
   ],
   "source": [
    "input_message = \"Hello\"\n",
    "\n",
    "for step in graph.stream(\n",
    "    {\"messages\": [{\"role\": \"user\", \"content\": input_message}]},\n",
    "    stream_mode=\"values\",\n",
    "):\n",
    "    step[\"messages\"][-1].pretty_print()"
   ]
  },
  {
   "cell_type": "code",
   "execution_count": 23,
   "id": "3acc14ff-66f8-4251-9bf6-5212465db5d1",
   "metadata": {},
   "outputs": [
    {
     "name": "stdout",
     "output_type": "stream",
     "text": [
      "================================\u001b[1m Human Message \u001b[0m=================================\n",
      "\n",
      "me fale sobre a mente\n",
      "==================================\u001b[1m Ai Message \u001b[0m==================================\n",
      "Tool Calls:\n",
      "  retrieve (ea3cdbb9-2f92-4347-a25f-0b958b9a9031)\n",
      " Call ID: ea3cdbb9-2f92-4347-a25f-0b958b9a9031\n",
      "  Args:\n",
      "    query: mente\n",
      "=================================\u001b[1m Tool Message \u001b[0m=================================\n",
      "Name: retrieve\n",
      "\n",
      "Source: {'source': 'https://www.reflexoesdofilosofo.blog.br/2016/06/consideracoes-gerais-sobre-filosofia-da.html'}\n",
      "Content: Partiremos\n",
      "da nossa definição de mente como um substrato imaterial que acompanha nossa\n",
      "atividade física corporal e cerebral. Nesse sentido, não somos materialistas,\n",
      "ou seja, a mente não se resume à matéria, ela é um algo mais. Não queremos\n",
      "aproximá-la do conceito de alma como algo que era, foi e sempre será\n",
      "independente do corpo. Acreditamos em algum tipo de ligação corpo-mente. Nesse\n",
      "sentido, não somos espiritualistas, ou seja, a mente não se confunde com a alma\n",
      "e, se o corpo falece, a mente não permanece (alguém já viu alguma mente por aí?).\n",
      "Também não somos comportamentalistas ou funcionalistas, não queremos explorar a\n",
      "mente através de uma conceituação lógica, ou seja, não queremos explicar os\n",
      "estados e comportamentos da mente. Nesse sentido, nos afastamos de uma mera\n",
      "psicologia.\n",
      "\n",
      "Source: {'source': 'https://www.reflexoesdofilosofo.blog.br/2016/06/consideracoes-gerais-sobre-filosofia-da.html'}\n",
      "Content: A\n",
      "mente, então, é algo de tamanho muito pequeno, algo como um efeito do corpo e\n",
      "suas sensações e da memória, do intelecto e uma suposta racionalidade. A mente\n",
      "é o lugar onde os sentimentos florescem, para onde as emoções convergem, a\n",
      "mente é uma foto instantânea de algo que nos representa nesse momento. Ela\n",
      "aparece e só sabemos dela porque refletimos. Tudo fica no corpo, é o corpo\n",
      "físico e material que sente, que armazena conhecimento, que guarda mágoas,\n",
      "enfim. Seu único papel [da mente] é nos dizer que somos seres humanos racionais e que em\n",
      "cada momento existe algo acontecendo conosco, uma evanescência. Mas a mente sempre\n",
      "está atrasada, ela está sempre depois de algo que se realizou. Não postulamos\n",
      "nenhum tipo de autonomia da mente, da nossa racionalidade sobre as nossas ações\n",
      "no mundo. Há, sim, uma vontade que é a conjunção de tudo que se passa no\n",
      "momento que decisões dela partem, e tudo é físico dentro e fora de nós. Tudo\n",
      "==================================\u001b[1m Ai Message \u001b[0m==================================\n",
      "\n",
      "A mente é um substrato imaterial que acompanha a atividade física corporal e cerebral, não se resumindo à matéria, mas sendo algo a mais. Ela é o lugar onde os sentimentos florescem e as emoções convergem, sendo uma foto instantânea de algo que nos representa no momento. A mente não tem autonomia e está sempre atrasada em relação ao que se realiza, servindo para nos dizer que somos seres humanos racionais.\n"
     ]
    }
   ],
   "source": [
    "input_message = \"me fale sobre a mente\"\n",
    "\n",
    "for step in graph.stream(\n",
    "    {\"messages\": [{\"role\": \"user\", \"content\": input_message}]},\n",
    "    stream_mode=\"values\",\n",
    "):\n",
    "    step[\"messages\"][-1].pretty_print()"
   ]
  },
  {
   "cell_type": "code",
   "execution_count": 24,
   "id": "d595998d-d936-499d-9266-17401a06426d",
   "metadata": {},
   "outputs": [],
   "source": [
    "memory = MemorySaver()\n",
    "graph = graph_builder.compile(checkpointer=memory)\n",
    "\n",
    "# Specify an ID for the thread\n",
    "config = {\"configurable\": {\"thread_id\": \"abc123\"}}"
   ]
  },
  {
   "cell_type": "code",
   "execution_count": 25,
   "id": "00c6ff15-4438-4841-813f-ad2dd30b619d",
   "metadata": {},
   "outputs": [
    {
     "name": "stdout",
     "output_type": "stream",
     "text": [
      "================================\u001b[1m Human Message \u001b[0m=================================\n",
      "\n",
      "me fale sobre a mente\n",
      "==================================\u001b[1m Ai Message \u001b[0m==================================\n",
      "Tool Calls:\n",
      "  retrieve (89e2b432-ed79-4f52-8840-3bd8334778a6)\n",
      " Call ID: 89e2b432-ed79-4f52-8840-3bd8334778a6\n",
      "  Args:\n",
      "    query: mente humana\n",
      "=================================\u001b[1m Tool Message \u001b[0m=================================\n",
      "Name: retrieve\n",
      "\n",
      "Source: {'source': 'https://www.reflexoesdofilosofo.blog.br/2016/06/consideracoes-gerais-sobre-filosofia-da.html'}\n",
      "Content: A\n",
      "mente, então, é algo de tamanho muito pequeno, algo como um efeito do corpo e\n",
      "suas sensações e da memória, do intelecto e uma suposta racionalidade. A mente\n",
      "é o lugar onde os sentimentos florescem, para onde as emoções convergem, a\n",
      "mente é uma foto instantânea de algo que nos representa nesse momento. Ela\n",
      "aparece e só sabemos dela porque refletimos. Tudo fica no corpo, é o corpo\n",
      "físico e material que sente, que armazena conhecimento, que guarda mágoas,\n",
      "enfim. Seu único papel [da mente] é nos dizer que somos seres humanos racionais e que em\n",
      "cada momento existe algo acontecendo conosco, uma evanescência. Mas a mente sempre\n",
      "está atrasada, ela está sempre depois de algo que se realizou. Não postulamos\n",
      "nenhum tipo de autonomia da mente, da nossa racionalidade sobre as nossas ações\n",
      "no mundo. Há, sim, uma vontade que é a conjunção de tudo que se passa no\n",
      "momento que decisões dela partem, e tudo é físico dentro e fora de nós. Tudo\n",
      "\n",
      "Source: {'source': 'https://www.reflexoesdofilosofo.blog.br/2020/03/uma-consciencia-uma-dificuldade.html'}\n",
      "Content: Mais do que isso, ao mesmo que nos\n",
      "conservamos destruímos o planeta e os outros animais. Seria essa mente evoluída\n",
      "a responsável pela provável eliminação dela própria? A consciência (a mente, o\n",
      "cérebro, a alma, enfim..) se choca com o mundo, não entende o mundo. Ela é feita\n",
      "de outro material. Na dúvida, conforme Camus, o suicídio é uma saída (nada\n",
      "racional!). Pois essa consciência é a primeira dificuldade no estudo da\n",
      "Filosofia da Mente.\n",
      "\n",
      "\n",
      "\n",
      "\n",
      "\n",
      "\n",
      "\n",
      "[i] Conforme https://pt.wikipedia.org/wiki/Humano,\n",
      "acesso em 03 de março de 2020.\n",
      "==================================\u001b[1m Ai Message \u001b[0m==================================\n",
      "\n",
      "A mente é um efeito do corpo, das sensações, da memória e do intelecto, sendo o lugar onde os sentimentos florescem e as emoções convergem. Ela nos diz que somos seres humanos racionais e que algo está acontecendo conosco, embora esteja sempre atrasada em relação aos acontecimentos. A consciência, que pode ser entendida como a mente, se choca com o mundo e não o entende, sendo a primeira dificuldade no estudo da Filosofia da Mente.\n"
     ]
    }
   ],
   "source": [
    "input_message = \"me fale sobre a mente\"\n",
    "\n",
    "for step in graph.stream(\n",
    "    {\"messages\": [{\"role\": \"user\", \"content\": input_message}]},\n",
    "    stream_mode=\"values\",\n",
    "    config=config,\n",
    "):\n",
    "    step[\"messages\"][-1].pretty_print()"
   ]
  },
  {
   "cell_type": "code",
   "execution_count": 37,
   "id": "b33c68b2-cc68-4abb-b833-a3c67f918c53",
   "metadata": {},
   "outputs": [
    {
     "name": "stdout",
     "output_type": "stream",
     "text": [
      "================================\u001b[1m System Message \u001b[0m================================\n",
      "\n",
      "sempre informe a fonte\n",
      "==================================\u001b[1m Ai Message \u001b[0m==================================\n",
      "Tool Calls:\n",
      "  retrieve (7a2c58cd-4704-4c9f-94fa-329bb8a7d1fe)\n",
      " Call ID: 7a2c58cd-4704-4c9f-94fa-329bb8a7d1fe\n",
      "  Args:\n",
      "    query: consciencia subjetiva\n",
      "=================================\u001b[1m Tool Message \u001b[0m=================================\n",
      "Name: retrieve\n",
      "\n",
      "Source: {'source': 'https://www.reflexoesdofilosofo.blog.br/2016/12/movimento-filosofico.html'}\n",
      "Content: A subjetividade se move na\n",
      "percepção do mundo, constituindo-o. Se o ego é um agora da percepção, esse\n",
      "agora abrange um passado como a intencionalidade daquele momento e um futuro\n",
      "que se abre para a vivência que acompanha o fenômeno. Cada vivência subjetiva delimita o objeto e o mundo e o ego passa e fica, como o outro polo. Esse encontro da subjetividade com o mundo fenomenológico é um aprofundamento para além das formas da sensibilidade, mas é contrário à psicologia. A fenomenologia é a descrição de tais modos de doação e tentaremos verificar como se pode assumir tal tarefa.\n",
      "\n",
      "\n",
      "\n",
      "\n",
      "\n",
      "Postado por\n",
      "\n",
      "\n",
      "\n",
      "Luís Fernando de Siqueira Quissak Pereira\n",
      "\n",
      "\n",
      "\n",
      "\n",
      "às\n",
      "\n",
      "12/23/2016 05:55:00 PM\n",
      "\n",
      "\n",
      "\n",
      "\n",
      "\n",
      "\n",
      "\n",
      "\n",
      "\n",
      "\n",
      "\n",
      "Enviar por e-mailPostar no blog!Compartilhar no XCompartilhar no FacebookCompartilhar com o Pinterest\n",
      "\n",
      "Source: {'source': 'https://www.reflexoesdofilosofo.blog.br/2020/04/a-consciencia-subjetiva-e-parte-da.html'}\n",
      "Content: A consciência subjetiva é parte da realidade*\n",
      "\n",
      "\n",
      "\n",
      "\n",
      "\n",
      "\n",
      "\n",
      "Introdução.\n",
      "Candiotto insere Searle na tradição da filosofia analítica do Círculo de Viena,\n",
      "porém mais voltado ao campo da filosofia da linguagem na construção de uma\n",
      "concepção de verdade e enfatizando suas preocupações na filosofia de mente\n",
      "referentes ao dualismo e monismo. Observando questões como subjetividade,\n",
      "consciência, realidade e racionalidade, para Searle nem dualismo e nem\n",
      "materialismo são respostas para a filosofia da mente devido a seus problemas\n",
      "epistemológicos.\n",
      "\n",
      "\n",
      "\n",
      "A\n",
      "irredutibilidade da compreensão da realidade. Candiotto inicia\n",
      "pela posição de Searle sobre o materialismo mostrando que essa filosofia não\n",
      "consegue se livrar das referências ao mental. Se o materialismo coloca dualismo\n",
      "ou misticismo como suas objeções, ao tentar negá-los acaba por aderir ao\n",
      "vocabulário dualista. Então, o termo materialismo traz associado o mentalismo,\n",
      "assim como objetividade evoca subjetividade.\n",
      "==================================\u001b[1m Ai Message \u001b[0m==================================\n",
      "\n",
      "A consciência subjetiva é parte da realidade. Candiotto insere Searle na tradição da filosofia analítica do Círculo de Viena, porém mais voltado ao campo da filosofia da linguagem na construção de uma concepção de verdade e enfatizando suas preocupações na filosofia de mente referentes ao dualismo e monismo. Observando questões como subjetividade, consciência, realidade e racionalidade, para Searle nem dualismo e nem materialismo são respostas para a filosofia da mente devido a seus problemas epistemológicos (fonte: [https://www.reflexoesdofilosofo.blog.br/2020/04/a-consciencia-subjetiva-e-parte-da.html](https://www.reflexoesdofilosofo.blog.br/2020/04/a-consciencia-subjetiva-e-parte-da.html)).\n"
     ]
    }
   ],
   "source": [
    "input_message = \"consciência subjetiva\"\n",
    "\n",
    "for step in graph.stream(\n",
    "    {\"messages\": [{\"role\": \"user\", \"content\": input_message}, {\"role\": \"system\", \"content\": \"sempre informe a fonte\"}]},\n",
    "    stream_mode=\"values\",\n",
    "    config=config,\n",
    "):\n",
    "    step[\"messages\"][-1].pretty_print()"
   ]
  },
  {
   "cell_type": "code",
   "execution_count": 27,
   "id": "b65cd455-deb1-4eed-abef-3aec06fabcf4",
   "metadata": {},
   "outputs": [],
   "source": [
    "agent_executor = create_react_agent(llm, [retrieve], checkpointer=memory)"
   ]
  },
  {
   "cell_type": "code",
   "execution_count": 28,
   "id": "425dab6a-601b-42aa-9559-4af66822b398",
   "metadata": {},
   "outputs": [
    {
     "data": {
      "image/png": "[encoded data removed]",
      "text/plain": [
       "<IPython.core.display.Image object>"
      ]
     },
     "metadata": {},
     "output_type": "display_data"
    }
   ],
   "source": [
    "display(Image(agent_executor.get_graph().draw_mermaid_png()))"
   ]
  },
  {
   "cell_type": "code",
   "execution_count": 31,
   "id": "a6af9461-674f-4b27-b873-8a24118a9097",
   "metadata": {},
   "outputs": [
    {
     "name": "stdout",
     "output_type": "stream",
     "text": [
      "================================\u001b[1m System Message \u001b[0m================================\n",
      "\n",
      "sempre informe a fonte\n",
      "==================================\u001b[1m Ai Message \u001b[0m==================================\n",
      "\n",
      "A mente é um conjunto complexo de capacidades cognitivas que nos permite perceber, pensar, sentir, aprender, lembrar, tomar decisões e interagir com o mundo ao nosso redor. Ela abrange processos conscientes e inconscientes, e é influenciada por fatores biológicos, psicológicos e sociais. A mente é frequentemente associada ao cérebro, mas a relação exata entre os dois ainda é um tema de debate.\n",
      "\n",
      "Aprofundando um aspecto: **a relação entre mente e corpo.**\n",
      "\n",
      "Essa relação tem sido objeto de reflexão filosófica e científica por séculos. Uma das questões centrais é se a mente é uma entidade separada do corpo (dualismo) ou se é um produto da atividade física do cérebro (fisicalismo ou materialismo).\n",
      "\n",
      "*   **Dualismo:** Argumenta que a mente e o corpo são duas substâncias distintas, com propriedades diferentes. Uma versão famosa é o dualismo cartesiano, proposto por René Descartes, que afirmava que a mente (ou alma) é imaterial e interage com o corpo através da glândula pineal.\n",
      "*   **Fisicalismo/Materialismo:** Sustenta que tudo o que existe é físico, incluindo a mente. Nesse caso, os estados mentais seriam idênticos a estados cerebrais, ou seriam causados por eles. Dentro do fisicalismo, há diferentes abordagens, como o behaviorismo (que foca no comportamento observável), a teoria da identidade (que identifica estados mentais com estados cerebrais específicos) e o funcionalismo (que enfatiza a função dos estados mentais, independentemente de sua implementação física).\n",
      "\n",
      "A compreensão da relação mente-corpo tem implicações importantes para diversas áreas, como a medicina, a psicologia, a neurociência e a inteligência artificial. Por exemplo, entender como o estresse afeta o corpo, ou como a meditação pode alterar a atividade cerebral, pode levar a novas abordagens de tratamento para doenças físicas e mentais.\n"
     ]
    }
   ],
   "source": [
    "config = {\"configurable\": {\"thread_id\": \"def234\"}}\n",
    "\n",
    "input_message = (\n",
    "    \"me fale sobre a mente\\n\\n\"\n",
    "    \"depois aprofunde algum aspecto\"\n",
    ")\n",
    "\n",
    "for event in agent_executor.stream(\n",
    "    {\"messages\": [{\"role\": \"user\", \"content\": input_message}, {\"role\": \"system\", \"content\": \"sempre informe a fonte\"}]},\n",
    "    stream_mode=\"values\",\n",
    "    config=config,\n",
    "):\n",
    "    event[\"messages\"][-1].pretty_print()"
   ]
  },
  {
   "cell_type": "code",
   "execution_count": null,
   "id": "1c87d224-2ed1-49df-a2a9-a01bffbec620",
   "metadata": {},
   "outputs": [],
   "source": []
  },
  {
   "cell_type": "code",
   "execution_count": 34,
   "id": "11213fee-17a0-42b0-8f5a-b668bba72b7a",
   "metadata": {},
   "outputs": [
    {
     "name": "stdout",
     "output_type": "stream",
     "text": [
      "================================\u001b[1m System Message \u001b[0m================================\n",
      "\n",
      "sempre informe a fonte\n",
      "==================================\u001b[1m Ai Message \u001b[0m==================================\n",
      "\n",
      "Não há menção a Searle nos textos fornecidos. Portanto, não posso fornecer informações sobre ele com base nesses textos.\n"
     ]
    }
   ],
   "source": [
    "config = {\"configurable\": {\"thread_id\": \"def234\"}}\n",
    "\n",
    "input_message = (\n",
    "    \"me fale sobre Searle no que há nos textos e em qual texto achou \\n\\n\"\n",
    ")\n",
    "\n",
    "for event in agent_executor.stream(\n",
    "    {\"messages\": [{\"role\": \"user\", \"content\": input_message}, {\"role\": \"system\", \"content\": \"sempre informe a fonte\"}]},\n",
    "    stream_mode=\"values\",\n",
    "    config=config,\n",
    "):\n",
    "    event[\"messages\"][-1].pretty_print()"
   ]
  },
  {
   "cell_type": "code",
   "execution_count": null,
   "id": "09f8061b-3a32-429c-ba3c-d7f1c67945dd",
   "metadata": {},
   "outputs": [],
   "source": []
  },
  {
   "cell_type": "code",
   "execution_count": null,
   "id": "aba6bf8b-e9db-4f06-8d34-aca53803d093",
   "metadata": {},
   "outputs": [],
   "source": []
  },
  {
   "cell_type": "code",
   "execution_count": null,
   "id": "9e90efe7-7b76-432c-afee-94f6d9d4f5c7",
   "metadata": {},
   "outputs": [],
   "source": []
  },
  {
   "cell_type": "code",
   "execution_count": null,
   "id": "52df98fd-50fa-4272-a29c-ff8e7cfbdc52",
   "metadata": {},
   "outputs": [],
   "source": []
  },
  {
   "cell_type": "code",
   "execution_count": null,
   "id": "786b362c-d05f-492c-b2bd-03e42cf7c374",
   "metadata": {},
   "outputs": [],
   "source": []
  },
  {
   "cell_type": "code",
   "execution_count": null,
   "id": "9ca072ff-ca50-477e-8e3f-47eaf709a732",
   "metadata": {},
   "outputs": [],
   "source": []
  },
  {
   "cell_type": "code",
   "execution_count": null,
   "id": "059b443a-f87f-46a7-a638-e52fa74873d7",
   "metadata": {},
   "outputs": [],
   "source": []
  },
  {
   "cell_type": "code",
   "execution_count": null,
   "id": "ddbaea3a-02e9-4e5c-918e-256a7a357695",
   "metadata": {},
   "outputs": [],
   "source": []
  },
  {
   "cell_type": "code",
   "execution_count": null,
   "id": "37075af4-1bbe-4d31-9c78-8655e487beaf",
   "metadata": {},
   "outputs": [],
   "source": []
  },
  {
   "cell_type": "code",
   "execution_count": null,
   "id": "9f458999-7ca3-4f81-9382-ba41405c7c8e",
   "metadata": {},
   "outputs": [],
   "source": []
  },
  {
   "cell_type": "code",
   "execution_count": 12,
   "id": "7f6c5e8c-3be3-46d9-b753-bbdb8adb3b9a",
   "metadata": {},
   "outputs": [],
   "source": [
    "# Define prompt for question-answering\n",
    "prompt = hub.pull(\"rlm/rag-prompt\")"
   ]
  },
  {
   "cell_type": "code",
   "execution_count": 13,
   "id": "55a91c5d-d318-4a92-aba1-9b12ad0b1276",
   "metadata": {},
   "outputs": [],
   "source": [
    "# Define state for application\n",
    "class State(TypedDict):\n",
    "    question: str\n",
    "    context: List[Document]\n",
    "    answer: str\n",
    "\n",
    "\n",
    "# Define application steps\n",
    "def retrieve(state: State):\n",
    "    retrieved_docs = vector_store.similarity_search(state[\"question\"])\n",
    "    return {\"context\": retrieved_docs}\n",
    "\n",
    "\n",
    "def generate(state: State):\n",
    "    docs_content = \"\\n\\n\".join(doc.page_content for doc in state[\"context\"])\n",
    "    messages = prompt.invoke({\"question\": state[\"question\"], \"context\": docs_content})\n",
    "    response = llm.invoke(messages)\n",
    "    return {\"answer\": response.content}"
   ]
  },
  {
   "cell_type": "code",
   "execution_count": 14,
   "id": "d0601a5f-0d5e-4a39-84c6-5a459e1b6e61",
   "metadata": {},
   "outputs": [],
   "source": [
    "# Compile application and test\n",
    "graph_builder = StateGraph(State).add_sequence([retrieve, generate])\n",
    "graph_builder.add_edge(START, \"retrieve\")\n",
    "graph = graph_builder.compile()"
   ]
  },
  {
   "cell_type": "code",
   "execution_count": null,
   "id": "9ea4561f-5d71-496b-a07f-01cde6eb6579",
   "metadata": {},
   "outputs": [],
   "source": []
  },
  {
   "cell_type": "code",
   "execution_count": 16,
   "id": "1b02137d-7816-44f5-9a9f-7a8f79169857",
   "metadata": {},
   "outputs": [
    {
     "name": "stdout",
     "output_type": "stream",
     "text": [
      "A teoria da mente está relacionada à filosofia da mente, que questiona a natureza da consciência e do mental. Alguns materialistas tratam o mental como algo puramente cerebral, mas a consciência é vista por outros como um fenômeno irredutível. A neurociência busca elucidar a consciência através da investigação científica do cérebro.\n",
      "\n"
     ]
    }
   ],
   "source": [
    "response = graph.invoke({\"question\": \"me fale sobre a mente\"})\n",
    "print(response[\"answer\"])"
   ]
  },
  {
   "cell_type": "code",
   "execution_count": null,
   "id": "078594f6-bbdf-40c2-b651-0231415e9749",
   "metadata": {},
   "outputs": [],
   "source": []
  },
  {
   "cell_type": "code",
   "execution_count": null,
   "id": "ee7bd3a3-cc0c-4c3f-be89-27955b57858d",
   "metadata": {},
   "outputs": [],
   "source": []
  },
  {
   "cell_type": "code",
   "execution_count": null,
   "id": "360d4c9e-2900-4190-8867-f90a3fc58971",
   "metadata": {},
   "outputs": [],
   "source": []
  }
 ],
 "metadata": {
  "kernelspec": {
   "display_name": "Python 3 (ipykernel)",
   "language": "python",
   "name": "python3"
  },
  "language_info": {
   "codemirror_mode": {
    "name": "ipython",
    "version": 3
   },
   "file_extension": ".py",
   "mimetype": "text/x-python",
   "name": "python",
   "nbconvert_exporter": "python",
   "pygments_lexer": "ipython3",
   "version": "3.12.1"
  }
 },
 "nbformat": 4,
 "nbformat_minor": 5
}
