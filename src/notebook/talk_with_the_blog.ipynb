{
 "cells": [
  {
   "cell_type": "code",
   "execution_count": null,
   "id": "4c72b9c6-a631-4666-b624-0e01c877c2e8",
   "metadata": {},
   "outputs": [],
   "source": []
  },
  {
   "cell_type": "code",
   "execution_count": null,
   "id": "d7405564-3cd2-4594-b60a-ee29043480a2",
   "metadata": {},
   "outputs": [],
   "source": []
  },
  {
   "cell_type": "code",
   "execution_count": 2,
   "id": "692caba2-9d59-47bd-85b0-6cf43274f04c",
   "metadata": {},
   "outputs": [],
   "source": [
    "import pandas as pd\n",
    "import matplotlib.pyplot as plt\n",
    "import seaborn as sns"
   ]
  },
  {
   "cell_type": "code",
   "execution_count": 19,
   "id": "11c1c208-e43b-469c-bd97-977397a0767c",
   "metadata": {},
   "outputs": [],
   "source": [
    "pd.set_option('display.max_colwidth', None)\n"
   ]
  },
  {
   "cell_type": "code",
   "execution_count": 3,
   "id": "385c3125-3f21-4ce6-847a-c814b88198ad",
   "metadata": {},
   "outputs": [],
   "source": [
    "%load_ext bigquery_magics"
   ]
  },
  {
   "cell_type": "code",
   "execution_count": 4,
   "id": "521dcbe4-3e05-4095-b2fd-49194d69c9e1",
   "metadata": {},
   "outputs": [
    {
     "data": {
      "application/vnd.jupyter.widget-view+json": {
       "model_id": "ed30929448f245518216f9a2e34c0f6b",
       "version_major": 2,
       "version_minor": 0
      },
      "text/plain": [
       "Query is running:   0%|          |"
      ]
     },
     "metadata": {},
     "output_type": "display_data"
    },
    {
     "data": {
      "application/vnd.jupyter.widget-view+json": {
       "model_id": "14fb9d639816472ebd9cdedbb6301a06",
       "version_major": 2,
       "version_minor": 0
      },
      "text/plain": [
       "Downloading:   0%|          |"
      ]
     },
     "metadata": {},
     "output_type": "display_data"
    }
   ],
   "source": [
    "%%bigquery posts_detailed\n",
    "SELECT * FROM `llm-studies.blog.posts_detailed`"
   ]
  },
  {
   "cell_type": "code",
   "execution_count": null,
   "id": "a22a7bc1-839b-4200-bee9-5fa6580f4eea",
   "metadata": {},
   "outputs": [],
   "source": []
  },
  {
   "cell_type": "code",
   "execution_count": 5,
   "id": "8be20be7-531d-4fcf-919c-6638ed940a43",
   "metadata": {},
   "outputs": [
    {
     "data": {
      "text/html": [
       "<div>\n",
       "<style scoped>\n",
       "    .dataframe tbody tr th:only-of-type {\n",
       "        vertical-align: middle;\n",
       "    }\n",
       "\n",
       "    .dataframe tbody tr th {\n",
       "        vertical-align: top;\n",
       "    }\n",
       "\n",
       "    .dataframe thead th {\n",
       "        text-align: right;\n",
       "    }\n",
       "</style>\n",
       "<table border=\"1\" class=\"dataframe\">\n",
       "  <thead>\n",
       "    <tr style=\"text-align: right;\">\n",
       "      <th></th>\n",
       "      <th>classification</th>\n",
       "      <th>post_title</th>\n",
       "      <th>post_date</th>\n",
       "      <th>post_url</th>\n",
       "      <th>justification</th>\n",
       "      <th>summarization</th>\n",
       "      <th>post_content</th>\n",
       "      <th>post_labels</th>\n",
       "      <th>post_replies</th>\n",
       "    </tr>\n",
       "  </thead>\n",
       "  <tbody>\n",
       "    <tr>\n",
       "      <th>0</th>\n",
       "      <td>Epistemologia</td>\n",
       "      <td>O problema de Parmênides</td>\n",
       "      <td>2025-02-07</td>\n",
       "      <td>http://www.reflexoesdofilosofo.blog.br/2025/02...</td>\n",
       "      <td>O texto discute a relação entre o ser e o não ...</td>\n",
       "      <td>O texto discute o problema filosófico apresent...</td>\n",
       "      <td>_Esse texto aborda de maneira geral o problema...</td>\n",
       "      <td>[aparência, ciência, conhecimento, essência, i...</td>\n",
       "      <td>0</td>\n",
       "    </tr>\n",
       "    <tr>\n",
       "      <th>1</th>\n",
       "      <td>Mente</td>\n",
       "      <td>Mentes Distintas</td>\n",
       "      <td>2025-01-17</td>\n",
       "      <td>http://www.reflexoesdofilosofo.blog.br/2025/01...</td>\n",
       "      <td>O texto se dedica a analisar diferentes perspe...</td>\n",
       "      <td>O texto discute a mente sob a perspectiva de q...</td>\n",
       "      <td>_Passa de forma rápida por aspectos da mente e...</td>\n",
       "      <td>[]</td>\n",
       "      <td>0</td>\n",
       "    </tr>\n",
       "    <tr>\n",
       "      <th>2</th>\n",
       "      <td>Mente</td>\n",
       "      <td>Heterofenomenologia</td>\n",
       "      <td>2025-01-16</td>\n",
       "      <td>http://www.reflexoesdofilosofo.blog.br/2025/01...</td>\n",
       "      <td>O texto se concentra em discutir a natureza da...</td>\n",
       "      <td>O texto discute a abordagem de Daniel Dennett ...</td>\n",
       "      <td>_Aborda o procedimento de Dennett para escapar...</td>\n",
       "      <td>[comportamento, consciência, linguagem, perspe...</td>\n",
       "      <td>1</td>\n",
       "    </tr>\n",
       "    <tr>\n",
       "      <th>3</th>\n",
       "      <td>Mente</td>\n",
       "      <td>Disputa de narrativas</td>\n",
       "      <td>2025-01-05</td>\n",
       "      <td>http://www.reflexoesdofilosofo.blog.br/2025/01...</td>\n",
       "      <td>O texto se concentra em discutir a natureza da...</td>\n",
       "      <td>O texto discute o modelo distribuído de disput...</td>\n",
       "      <td>_Explora o modelo distribuído de disputa de na...</td>\n",
       "      <td>[abstracta, cérebro, consciência, meme, pandem...</td>\n",
       "      <td>0</td>\n",
       "    </tr>\n",
       "    <tr>\n",
       "      <th>4</th>\n",
       "      <td>Epistemologia</td>\n",
       "      <td>Maiêutica</td>\n",
       "      <td>2024-12-30</td>\n",
       "      <td>http://www.reflexoesdofilosofo.blog.br/2024/12...</td>\n",
       "      <td>O texto discute o método socrático, que é um m...</td>\n",
       "      <td>O texto discute o método socrático, também con...</td>\n",
       "      <td>_Esse texto visa localizar o método socrático*...</td>\n",
       "      <td>[]</td>\n",
       "      <td>0</td>\n",
       "    </tr>\n",
       "    <tr>\n",
       "      <th>5</th>\n",
       "      <td>Ética</td>\n",
       "      <td>De Kant a Schopenhauer: a fundação da moral pa...</td>\n",
       "      <td>2024-12-25</td>\n",
       "      <td>http://www.reflexoesdofilosofo.blog.br/2024/12...</td>\n",
       "      <td>O documento se concentra em uma análise compar...</td>\n",
       "      <td>O documento apresenta uma análise comparativa ...</td>\n",
       "      <td>**_Parte superior do formulário_**\\n\\n**_Docum...</td>\n",
       "      <td>[ação, egoísmo, ética, moral, razão, vontade]</td>\n",
       "      <td>0</td>\n",
       "    </tr>\n",
       "    <tr>\n",
       "      <th>6</th>\n",
       "      <td>Mente</td>\n",
       "      <td>O peso da consciência</td>\n",
       "      <td>2024-12-01</td>\n",
       "      <td>http://www.reflexoesdofilosofo.blog.br/2024/12...</td>\n",
       "      <td>O texto discute a evolução do conceito de cons...</td>\n",
       "      <td>O texto analisa a evolução do conceito de cons...</td>\n",
       "      <td>_Procura mostrar como a consciência muda seu ...</td>\n",
       "      <td>[apercepção, condição de possibilidade, experi...</td>\n",
       "      <td>0</td>\n",
       "    </tr>\n",
       "    <tr>\n",
       "      <th>7</th>\n",
       "      <td>Mente</td>\n",
       "      <td>Os argumentos da princesa</td>\n",
       "      <td>2024-11-30</td>\n",
       "      <td>http://www.reflexoesdofilosofo.blog.br/2024/11...</td>\n",
       "      <td>O texto se concentra em discutir a concepção d...</td>\n",
       "      <td>O texto discute a concepção dualista de mente ...</td>\n",
       "      <td>_Acerca da conceituação dualista e problemas**...</td>\n",
       "      <td>[consciência, dúvida, eu penso, glândula pinea...</td>\n",
       "      <td>0</td>\n",
       "    </tr>\n",
       "    <tr>\n",
       "      <th>8</th>\n",
       "      <td>Mente</td>\n",
       "      <td>O vermelho não tem cor</td>\n",
       "      <td>2024-11-20</td>\n",
       "      <td>http://www.reflexoesdofilosofo.blog.br/2024/11...</td>\n",
       "      <td>O texto se concentra em analisar a concepção d...</td>\n",
       "      <td>O texto discute a filosofia de Tomás de Aquino...</td>\n",
       "      <td>_O texto passa por conceitos de Tomás como int...</td>\n",
       "      <td>[alma, consciência, individuação, intelecto, l...</td>\n",
       "      <td>0</td>\n",
       "    </tr>\n",
       "    <tr>\n",
       "      <th>9</th>\n",
       "      <td>Mente</td>\n",
       "      <td>Uma narrativa da mente</td>\n",
       "      <td>2024-11-18</td>\n",
       "      <td>http://www.reflexoesdofilosofo.blog.br/2024/11...</td>\n",
       "      <td>O texto se concentra em discutir a teoria func...</td>\n",
       "      <td>O texto discute a teoria funcionalista da cons...</td>\n",
       "      <td>_Traz aspectos de uma teoria funcionalista sob...</td>\n",
       "      <td>[consciência, deliberação, escolha, mito carte...</td>\n",
       "      <td>0</td>\n",
       "    </tr>\n",
       "    <tr>\n",
       "      <th>10</th>\n",
       "      <td>Mente</td>\n",
       "      <td>Revisitando o mito cartesiano</td>\n",
       "      <td>2024-11-15</td>\n",
       "      <td>http://www.reflexoesdofilosofo.blog.br/2024/11...</td>\n",
       "      <td>O texto discute a natureza da mente, questiona...</td>\n",
       "      <td>O texto critica o mito cartesiano da separação...</td>\n",
       "      <td>_Comentários sobre o mito cartesiano**[i]**_\\n...</td>\n",
       "      <td>[Determinismo, dualismo, linguagem]</td>\n",
       "      <td>1</td>\n",
       "    </tr>\n",
       "    <tr>\n",
       "      <th>11</th>\n",
       "      <td>Epistemologia</td>\n",
       "      <td>Repetição e esquecimento</td>\n",
       "      <td>2024-11-09</td>\n",
       "      <td>http://www.reflexoesdofilosofo.blog.br/2024/11...</td>\n",
       "      <td>O texto explora a natureza da repetição, quest...</td>\n",
       "      <td>O texto explora a natureza da repetição, quest...</td>\n",
       "      <td>“Faça isso.” Tic-tac-tic-tac. “Não fez? Vê se ...</td>\n",
       "      <td>[]</td>\n",
       "      <td>0</td>\n",
       "    </tr>\n",
       "    <tr>\n",
       "      <th>12</th>\n",
       "      <td>Mente</td>\n",
       "      <td>Alma feliz</td>\n",
       "      <td>2024-11-03</td>\n",
       "      <td>http://www.reflexoesdofilosofo.blog.br/2024/11...</td>\n",
       "      <td>O texto se concentra em discutir a concepção d...</td>\n",
       "      <td>O texto discute a concepção aristotélica da al...</td>\n",
       "      <td>_Aborda aspectos da alma aristotélica**[i]**_\\...</td>\n",
       "      <td>[ato e potência, felicidade, forma e matéria, ...</td>\n",
       "      <td>0</td>\n",
       "    </tr>\n",
       "  </tbody>\n",
       "</table>\n",
       "</div>"
      ],
      "text/plain": [
       "   classification                                         post_title  \\\n",
       "0   Epistemologia                           O problema de Parmênides   \n",
       "1           Mente                                   Mentes Distintas   \n",
       "2           Mente                                Heterofenomenologia   \n",
       "3           Mente                              Disputa de narrativas   \n",
       "4   Epistemologia                                          Maiêutica   \n",
       "5           Ética  De Kant a Schopenhauer: a fundação da moral pa...   \n",
       "6           Mente                              O peso da consciência   \n",
       "7           Mente                          Os argumentos da princesa   \n",
       "8           Mente                             O vermelho não tem cor   \n",
       "9           Mente                             Uma narrativa da mente   \n",
       "10          Mente                      Revisitando o mito cartesiano   \n",
       "11  Epistemologia                           Repetição e esquecimento   \n",
       "12          Mente                                         Alma feliz   \n",
       "\n",
       "     post_date                                           post_url  \\\n",
       "0   2025-02-07  http://www.reflexoesdofilosofo.blog.br/2025/02...   \n",
       "1   2025-01-17  http://www.reflexoesdofilosofo.blog.br/2025/01...   \n",
       "2   2025-01-16  http://www.reflexoesdofilosofo.blog.br/2025/01...   \n",
       "3   2025-01-05  http://www.reflexoesdofilosofo.blog.br/2025/01...   \n",
       "4   2024-12-30  http://www.reflexoesdofilosofo.blog.br/2024/12...   \n",
       "5   2024-12-25  http://www.reflexoesdofilosofo.blog.br/2024/12...   \n",
       "6   2024-12-01  http://www.reflexoesdofilosofo.blog.br/2024/12...   \n",
       "7   2024-11-30  http://www.reflexoesdofilosofo.blog.br/2024/11...   \n",
       "8   2024-11-20  http://www.reflexoesdofilosofo.blog.br/2024/11...   \n",
       "9   2024-11-18  http://www.reflexoesdofilosofo.blog.br/2024/11...   \n",
       "10  2024-11-15  http://www.reflexoesdofilosofo.blog.br/2024/11...   \n",
       "11  2024-11-09  http://www.reflexoesdofilosofo.blog.br/2024/11...   \n",
       "12  2024-11-03  http://www.reflexoesdofilosofo.blog.br/2024/11...   \n",
       "\n",
       "                                        justification  \\\n",
       "0   O texto discute a relação entre o ser e o não ...   \n",
       "1   O texto se dedica a analisar diferentes perspe...   \n",
       "2   O texto se concentra em discutir a natureza da...   \n",
       "3   O texto se concentra em discutir a natureza da...   \n",
       "4   O texto discute o método socrático, que é um m...   \n",
       "5   O documento se concentra em uma análise compar...   \n",
       "6   O texto discute a evolução do conceito de cons...   \n",
       "7   O texto se concentra em discutir a concepção d...   \n",
       "8   O texto se concentra em analisar a concepção d...   \n",
       "9   O texto se concentra em discutir a teoria func...   \n",
       "10  O texto discute a natureza da mente, questiona...   \n",
       "11  O texto explora a natureza da repetição, quest...   \n",
       "12  O texto se concentra em discutir a concepção d...   \n",
       "\n",
       "                                        summarization  \\\n",
       "0   O texto discute o problema filosófico apresent...   \n",
       "1   O texto discute a mente sob a perspectiva de q...   \n",
       "2   O texto discute a abordagem de Daniel Dennett ...   \n",
       "3   O texto discute o modelo distribuído de disput...   \n",
       "4   O texto discute o método socrático, também con...   \n",
       "5   O documento apresenta uma análise comparativa ...   \n",
       "6   O texto analisa a evolução do conceito de cons...   \n",
       "7   O texto discute a concepção dualista de mente ...   \n",
       "8   O texto discute a filosofia de Tomás de Aquino...   \n",
       "9   O texto discute a teoria funcionalista da cons...   \n",
       "10  O texto critica o mito cartesiano da separação...   \n",
       "11  O texto explora a natureza da repetição, quest...   \n",
       "12  O texto discute a concepção aristotélica da al...   \n",
       "\n",
       "                                         post_content  \\\n",
       "0   _Esse texto aborda de maneira geral o problema...   \n",
       "1   _Passa de forma rápida por aspectos da mente e...   \n",
       "2   _Aborda o procedimento de Dennett para escapar...   \n",
       "3   _Explora o modelo distribuído de disputa de na...   \n",
       "4   _Esse texto visa localizar o método socrático*...   \n",
       "5   **_Parte superior do formulário_**\\n\\n**_Docum...   \n",
       "6    _Procura mostrar como a consciência muda seu ...   \n",
       "7   _Acerca da conceituação dualista e problemas**...   \n",
       "8   _O texto passa por conceitos de Tomás como int...   \n",
       "9   _Traz aspectos de uma teoria funcionalista sob...   \n",
       "10  _Comentários sobre o mito cartesiano**[i]**_\\n...   \n",
       "11  “Faça isso.” Tic-tac-tic-tac. “Não fez? Vê se ...   \n",
       "12  _Aborda aspectos da alma aristotélica**[i]**_\\...   \n",
       "\n",
       "                                          post_labels  post_replies  \n",
       "0   [aparência, ciência, conhecimento, essência, i...             0  \n",
       "1                                                  []             0  \n",
       "2   [comportamento, consciência, linguagem, perspe...             1  \n",
       "3   [abstracta, cérebro, consciência, meme, pandem...             0  \n",
       "4                                                  []             0  \n",
       "5       [ação, egoísmo, ética, moral, razão, vontade]             0  \n",
       "6   [apercepção, condição de possibilidade, experi...             0  \n",
       "7   [consciência, dúvida, eu penso, glândula pinea...             0  \n",
       "8   [alma, consciência, individuação, intelecto, l...             0  \n",
       "9   [consciência, deliberação, escolha, mito carte...             0  \n",
       "10                [Determinismo, dualismo, linguagem]             1  \n",
       "11                                                 []             0  \n",
       "12  [ato e potência, felicidade, forma e matéria, ...             0  "
      ]
     },
     "execution_count": 5,
     "metadata": {},
     "output_type": "execute_result"
    }
   ],
   "source": [
    "posts_detailed"
   ]
  },
  {
   "cell_type": "code",
   "execution_count": 6,
   "id": "24f1608b-11db-4e22-9dee-8efe48af948e",
   "metadata": {},
   "outputs": [
    {
     "name": "stdout",
     "output_type": "stream",
     "text": [
      "<class 'pandas.core.frame.DataFrame'>\n",
      "RangeIndex: 13 entries, 0 to 12\n",
      "Data columns (total 9 columns):\n",
      " #   Column          Non-Null Count  Dtype \n",
      "---  ------          --------------  ----- \n",
      " 0   classification  13 non-null     object\n",
      " 1   post_title      13 non-null     object\n",
      " 2   post_date       13 non-null     dbdate\n",
      " 3   post_url        13 non-null     object\n",
      " 4   justification   13 non-null     object\n",
      " 5   summarization   13 non-null     object\n",
      " 6   post_content    13 non-null     object\n",
      " 7   post_labels     13 non-null     object\n",
      " 8   post_replies    13 non-null     Int64 \n",
      "dtypes: Int64(1), dbdate(1), object(7)\n",
      "memory usage: 1.1+ KB\n"
     ]
    }
   ],
   "source": [
    "posts_detailed.info()"
   ]
  },
  {
   "cell_type": "code",
   "execution_count": 7,
   "id": "6ec83a69-f2e2-445b-a05a-068566664a1a",
   "metadata": {},
   "outputs": [
    {
     "data": {
      "text/html": [
       "<div>\n",
       "<style scoped>\n",
       "    .dataframe tbody tr th:only-of-type {\n",
       "        vertical-align: middle;\n",
       "    }\n",
       "\n",
       "    .dataframe tbody tr th {\n",
       "        vertical-align: top;\n",
       "    }\n",
       "\n",
       "    .dataframe thead th {\n",
       "        text-align: right;\n",
       "    }\n",
       "</style>\n",
       "<table border=\"1\" class=\"dataframe\">\n",
       "  <thead>\n",
       "    <tr style=\"text-align: right;\">\n",
       "      <th></th>\n",
       "      <th>classification</th>\n",
       "      <th>post_title</th>\n",
       "      <th>post_url</th>\n",
       "      <th>justification</th>\n",
       "      <th>summarization</th>\n",
       "      <th>post_content</th>\n",
       "      <th>post_labels</th>\n",
       "    </tr>\n",
       "  </thead>\n",
       "  <tbody>\n",
       "    <tr>\n",
       "      <th>count</th>\n",
       "      <td>13</td>\n",
       "      <td>13</td>\n",
       "      <td>13</td>\n",
       "      <td>13</td>\n",
       "      <td>13</td>\n",
       "      <td>13</td>\n",
       "      <td>13</td>\n",
       "    </tr>\n",
       "    <tr>\n",
       "      <th>unique</th>\n",
       "      <td>3</td>\n",
       "      <td>13</td>\n",
       "      <td>13</td>\n",
       "      <td>13</td>\n",
       "      <td>13</td>\n",
       "      <td>13</td>\n",
       "      <td>13</td>\n",
       "    </tr>\n",
       "    <tr>\n",
       "      <th>top</th>\n",
       "      <td>Mente</td>\n",
       "      <td>O problema de Parmênides</td>\n",
       "      <td>http://www.reflexoesdofilosofo.blog.br/2025/02...</td>\n",
       "      <td>O texto discute a relação entre o ser e o não ...</td>\n",
       "      <td>O texto discute o problema filosófico apresent...</td>\n",
       "      <td>_Esse texto aborda de maneira geral o problema...</td>\n",
       "      <td>[aparência, ciência, conhecimento, essência, i...</td>\n",
       "    </tr>\n",
       "    <tr>\n",
       "      <th>freq</th>\n",
       "      <td>9</td>\n",
       "      <td>1</td>\n",
       "      <td>1</td>\n",
       "      <td>1</td>\n",
       "      <td>1</td>\n",
       "      <td>1</td>\n",
       "      <td>1</td>\n",
       "    </tr>\n",
       "  </tbody>\n",
       "</table>\n",
       "</div>"
      ],
      "text/plain": [
       "       classification                post_title  \\\n",
       "count              13                        13   \n",
       "unique              3                        13   \n",
       "top             Mente  O problema de Parmênides   \n",
       "freq                9                         1   \n",
       "\n",
       "                                                 post_url  \\\n",
       "count                                                  13   \n",
       "unique                                                 13   \n",
       "top     http://www.reflexoesdofilosofo.blog.br/2025/02...   \n",
       "freq                                                    1   \n",
       "\n",
       "                                            justification  \\\n",
       "count                                                  13   \n",
       "unique                                                 13   \n",
       "top     O texto discute a relação entre o ser e o não ...   \n",
       "freq                                                    1   \n",
       "\n",
       "                                            summarization  \\\n",
       "count                                                  13   \n",
       "unique                                                 13   \n",
       "top     O texto discute o problema filosófico apresent...   \n",
       "freq                                                    1   \n",
       "\n",
       "                                             post_content  \\\n",
       "count                                                  13   \n",
       "unique                                                 13   \n",
       "top     _Esse texto aborda de maneira geral o problema...   \n",
       "freq                                                    1   \n",
       "\n",
       "                                              post_labels  \n",
       "count                                                  13  \n",
       "unique                                                 13  \n",
       "top     [aparência, ciência, conhecimento, essência, i...  \n",
       "freq                                                    1  "
      ]
     },
     "execution_count": 7,
     "metadata": {},
     "output_type": "execute_result"
    }
   ],
   "source": [
    "posts_detailed.describe(include=[\"object\", \"bool\"])"
   ]
  },
  {
   "cell_type": "code",
   "execution_count": 8,
   "id": "043962d0-5854-4cb3-83bb-6d785cbf4647",
   "metadata": {},
   "outputs": [],
   "source": [
    "%config InlineBackend.figure_format = 'retina'\n",
    "sns.set_theme(rc={'figure.figsize':(11.7,8.27)})"
   ]
  },
  {
   "cell_type": "code",
   "execution_count": 9,
   "id": "f8efb2f3-b44f-46cf-896c-da694bb88fe7",
   "metadata": {},
   "outputs": [
    {
     "data": {
      "text/plain": [
       "[None, None, None]"
      ]
     },
     "execution_count": 9,
     "metadata": {},
     "output_type": "execute_result"
    },
    {
     "data": {
      "image/png": "[encoded data removed]",
      "text/plain": [
       "<Figure size 1170x827 with 1 Axes>"
      ]
     },
     "metadata": {
      "image/png": {
       "height": 769,
       "width": 969
      }
     },
     "output_type": "display_data"
    }
   ],
   "source": [
    "plot = sns.countplot(x=\"classification\", hue=\"classification\", data=posts_detailed, legend=True);\n",
    "plt.setp(plot.get_xticklabels(), rotation=45)"
   ]
  },
  {
   "cell_type": "code",
   "execution_count": 21,
   "id": "8021d40e-d700-42ce-8890-e4aae365efb5",
   "metadata": {},
   "outputs": [
    {
     "data": {
      "application/vnd.jupyter.widget-view+json": {
       "model_id": "3b348d94098e473399bec9360706b602",
       "version_major": 2,
       "version_minor": 0
      },
      "text/plain": [
       "Query is running:   0%|          |"
      ]
     },
     "metadata": {},
     "output_type": "display_data"
    },
    {
     "data": {
      "application/vnd.jupyter.widget-view+json": {
       "model_id": "4c454013508448708f6b4cd0f63b6cd3",
       "version_major": 2,
       "version_minor": 0
      },
      "text/plain": [
       "Downloading:   0%|          |"
      ]
     },
     "metadata": {},
     "output_type": "display_data"
    },
    {
     "name": "stderr",
     "output_type": "stream",
     "text": [
      "C:\\Users\\A450373\\OneDrive - ATOS\\source-code\\pessoal\\blog-api-2024\\.venv\\Lib\\site-packages\\google\\cloud\\bigquery\\_pandas_helpers.py:208: UserWarning: Unable to determine Arrow type for field 'statistics'.\n",
      "  warnings.warn(\n"
     ]
    }
   ],
   "source": [
    "%%bigquery qa\n",
    "SELECT query.query, base.post_title, base.post_url, base.statistics, round(cast(distance as float64), 2) as distance\n",
    "FROM\n",
    "  VECTOR_SEARCH(\n",
    "    TABLE blog.posts_dez_2024_emb,\n",
    "    'text_embedding',\n",
    "    ( SELECT ml_generate_embedding_result, content AS query\n",
    "  FROM ML.GENERATE_EMBEDDING(\n",
    "  MODEL blog.text_emb,\n",
    "  (SELECT 'teoria das formas de platão' AS content))\n",
    "),\n",
    "    top_k => 5)\n",
    "order by distance desc"
   ]
  },
  {
   "cell_type": "code",
   "execution_count": 22,
   "id": "c88cd9a3-f15c-4099-8f8f-97ec0225f1b9",
   "metadata": {},
   "outputs": [
    {
     "data": {
      "text/html": [
       "<div>\n",
       "<style scoped>\n",
       "    .dataframe tbody tr th:only-of-type {\n",
       "        vertical-align: middle;\n",
       "    }\n",
       "\n",
       "    .dataframe tbody tr th {\n",
       "        vertical-align: top;\n",
       "    }\n",
       "\n",
       "    .dataframe thead th {\n",
       "        text-align: right;\n",
       "    }\n",
       "</style>\n",
       "<table border=\"1\" class=\"dataframe\">\n",
       "  <thead>\n",
       "    <tr style=\"text-align: right;\">\n",
       "      <th></th>\n",
       "      <th>query</th>\n",
       "      <th>post_title</th>\n",
       "      <th>post_url</th>\n",
       "      <th>statistics</th>\n",
       "      <th>distance</th>\n",
       "    </tr>\n",
       "  </thead>\n",
       "  <tbody>\n",
       "    <tr>\n",
       "      <th>0</th>\n",
       "      <td>teoria das formas de platão</td>\n",
       "      <td>Plotino, exegeta de Aristóteles*</td>\n",
       "      <td>http://www.reflexoesdofilosofo.blog.br/2016/04/plotino-exegeta-de-aristoteles.html</td>\n",
       "      <td>{'token_count': 3060, 'truncated': True}</td>\n",
       "      <td>0.94</td>\n",
       "    </tr>\n",
       "    <tr>\n",
       "      <th>1</th>\n",
       "      <td>teoria das formas de platão</td>\n",
       "      <td>A matemática e a metafísica grega</td>\n",
       "      <td>http://www.reflexoesdofilosofo.blog.br/2021/04/a-matematica-e-metafisica-grega.html</td>\n",
       "      <td>{'token_count': 1838, 'truncated': False}</td>\n",
       "      <td>0.93</td>\n",
       "    </tr>\n",
       "    <tr>\n",
       "      <th>2</th>\n",
       "      <td>teoria das formas de platão</td>\n",
       "      <td>Convergência</td>\n",
       "      <td>http://www.reflexoesdofilosofo.blog.br/2017/02/convergencia.html</td>\n",
       "      <td>{'token_count': 1070, 'truncated': False}</td>\n",
       "      <td>0.93</td>\n",
       "    </tr>\n",
       "    <tr>\n",
       "      <th>3</th>\n",
       "      <td>teoria das formas de platão</td>\n",
       "      <td>Platão à guisa de introdução</td>\n",
       "      <td>http://www.reflexoesdofilosofo.blog.br/2015/12/platao-guisa-de-introducao.html</td>\n",
       "      <td>{'token_count': 1563, 'truncated': False}</td>\n",
       "      <td>0.88</td>\n",
       "    </tr>\n",
       "    <tr>\n",
       "      <th>4</th>\n",
       "      <td>teoria das formas de platão</td>\n",
       "      <td>Forma e substância - um ensaio aristotélico meio kantiano*</td>\n",
       "      <td>http://www.reflexoesdofilosofo.blog.br/2016/03/forma-e-substancia-um-ensaio.html</td>\n",
       "      <td>{'token_count': 1082, 'truncated': False}</td>\n",
       "      <td>0.86</td>\n",
       "    </tr>\n",
       "  </tbody>\n",
       "</table>\n",
       "</div>"
      ],
      "text/plain": [
       "                         query  \\\n",
       "0  teoria das formas de platão   \n",
       "1  teoria das formas de platão   \n",
       "2  teoria das formas de platão   \n",
       "3  teoria das formas de platão   \n",
       "4  teoria das formas de platão   \n",
       "\n",
       "                                                   post_title  \\\n",
       "0                            Plotino, exegeta de Aristóteles*   \n",
       "1                           A matemática e a metafísica grega   \n",
       "2                                                Convergência   \n",
       "3                                Platão à guisa de introdução   \n",
       "4  Forma e substância - um ensaio aristotélico meio kantiano*   \n",
       "\n",
       "                                                                              post_url  \\\n",
       "0   http://www.reflexoesdofilosofo.blog.br/2016/04/plotino-exegeta-de-aristoteles.html   \n",
       "1  http://www.reflexoesdofilosofo.blog.br/2021/04/a-matematica-e-metafisica-grega.html   \n",
       "2                     http://www.reflexoesdofilosofo.blog.br/2017/02/convergencia.html   \n",
       "3       http://www.reflexoesdofilosofo.blog.br/2015/12/platao-guisa-de-introducao.html   \n",
       "4     http://www.reflexoesdofilosofo.blog.br/2016/03/forma-e-substancia-um-ensaio.html   \n",
       "\n",
       "                                  statistics  distance  \n",
       "0   {'token_count': 3060, 'truncated': True}      0.94  \n",
       "1  {'token_count': 1838, 'truncated': False}      0.93  \n",
       "2  {'token_count': 1070, 'truncated': False}      0.93  \n",
       "3  {'token_count': 1563, 'truncated': False}      0.88  \n",
       "4  {'token_count': 1082, 'truncated': False}      0.86  "
      ]
     },
     "execution_count": 22,
     "metadata": {},
     "output_type": "execute_result"
    }
   ],
   "source": [
    "qa"
   ]
  },
  {
   "cell_type": "code",
   "execution_count": 26,
   "id": "6a0f85bf-cba9-48b1-a4d8-9a61911053d5",
   "metadata": {},
   "outputs": [
    {
     "data": {
      "application/vnd.jupyter.widget-view+json": {
       "model_id": "8277bf3cf4834934bc1f6cd3dd8e405c",
       "version_major": 2,
       "version_minor": 0
      },
      "text/plain": [
       "Query is running:   0%|          |"
      ]
     },
     "metadata": {},
     "output_type": "display_data"
    },
    {
     "data": {
      "application/vnd.jupyter.widget-view+json": {
       "model_id": "716563936d36492997217da75a589406",
       "version_major": 2,
       "version_minor": 0
      },
      "text/plain": [
       "Downloading:   0%|          |"
      ]
     },
     "metadata": {},
     "output_type": "display_data"
    }
   ],
   "source": [
    "%%bigquery rag\n",
    "SELECT ml_generate_text_llm_result AS generated\n",
    "FROM ML.GENERATE_TEXT(\n",
    "  MODEL blog.text_model,\n",
    "  (\n",
    "    SELECT CONCAT(\n",
    "      'Qual a ideia madre do texto: ',\n",
    "      STRING_AGG(\n",
    "        FORMAT(\"text title: %s, text abstract: %s\", base.post_title, base.post_content),\n",
    "        ',\\n')\n",
    "      ) AS prompt,\n",
    "    FROM VECTOR_SEARCH(\n",
    "      TABLE blog.posts_dez_2024_emb, 'text_embedding',\n",
    "      (\n",
    "        SELECT ml_generate_embedding_result, content AS query\n",
    "        FROM ML.GENERATE_EMBEDDING(\n",
    "          MODEL blog.text_emb,\n",
    "         (SELECT 'teoria das formas de platão' AS content)\n",
    "        )\n",
    "      ),\n",
    "    top_k => 5, options => '{\"fraction_lists_to_search\": 0.01}')\n",
    "  ),\n",
    "  STRUCT(600 AS max_output_tokens, TRUE AS flatten_json_output));"
   ]
  },
  {
   "cell_type": "code",
   "execution_count": 27,
   "id": "d7125462-b15b-43a1-97bb-b56ea4ad3f33",
   "metadata": {},
   "outputs": [
    {
     "data": {
      "text/html": [
       "<div>\n",
       "<style scoped>\n",
       "    .dataframe tbody tr th:only-of-type {\n",
       "        vertical-align: middle;\n",
       "    }\n",
       "\n",
       "    .dataframe tbody tr th {\n",
       "        vertical-align: top;\n",
       "    }\n",
       "\n",
       "    .dataframe thead th {\n",
       "        text-align: right;\n",
       "    }\n",
       "</style>\n",
       "<table border=\"1\" class=\"dataframe\">\n",
       "  <thead>\n",
       "    <tr style=\"text-align: right;\">\n",
       "      <th></th>\n",
       "      <th>generated</th>\n",
       "    </tr>\n",
       "  </thead>\n",
       "  <tbody>\n",
       "    <tr>\n",
       "      <th>0</th>\n",
       "      <td>A ideia-mãe do texto \"Forma e substância - um ensaio aristotélico meio kantiano\" é **investigar a relação entre forma e substância, buscando definir a natureza da substância e como a forma a constitui e a torna conhecível, confrontando as perspectivas de Aristóteles e Platão.**  O autor explora a questão da existência da substância independente da forma, a natureza da matéria como potência da forma, e a relação entre o concreto e o logos na compreensão ontológica e epistemológica da realidade.  A discussão se centra na ambiguidade do termo \"ser\" e na tentativa de conciliar a visão aristotélica da forma imanente com a platônica das formas separadas.  A aparente contradição entre a forma como universal e sua existência em substâncias particulares é um ponto central da investigação.\\n</td>\n",
       "    </tr>\n",
       "  </tbody>\n",
       "</table>\n",
       "</div>"
      ],
      "text/plain": [
       "                                                                                                                                                                                                                                                                                                                                                                                                                                                                                                                                                                                                                                                                                                                                                                                                                  generated\n",
       "0  A ideia-mãe do texto \"Forma e substância - um ensaio aristotélico meio kantiano\" é **investigar a relação entre forma e substância, buscando definir a natureza da substância e como a forma a constitui e a torna conhecível, confrontando as perspectivas de Aristóteles e Platão.**  O autor explora a questão da existência da substância independente da forma, a natureza da matéria como potência da forma, e a relação entre o concreto e o logos na compreensão ontológica e epistemológica da realidade.  A discussão se centra na ambiguidade do termo \"ser\" e na tentativa de conciliar a visão aristotélica da forma imanente com a platônica das formas separadas.  A aparente contradição entre a forma como universal e sua existência em substâncias particulares é um ponto central da investigação.\\n"
      ]
     },
     "execution_count": 27,
     "metadata": {},
     "output_type": "execute_result"
    }
   ],
   "source": [
    "rag"
   ]
  },
  {
   "cell_type": "code",
   "execution_count": null,
   "id": "57888490-f9e7-4305-bc2c-1c629288d1dc",
   "metadata": {},
   "outputs": [],
   "source": []
  }
 ],
 "metadata": {
  "kernelspec": {
   "display_name": "Python 3 (ipykernel)",
   "language": "python",
   "name": "python3"
  },
  "language_info": {
   "codemirror_mode": {
    "name": "ipython",
    "version": 3
   },
   "file_extension": ".py",
   "mimetype": "text/x-python",
   "name": "python",
   "nbconvert_exporter": "python",
   "pygments_lexer": "ipython3",
   "version": "3.12.1"
  }
 },
 "nbformat": 4,
 "nbformat_minor": 5
}
