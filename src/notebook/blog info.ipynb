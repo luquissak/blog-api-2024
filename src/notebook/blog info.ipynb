{
 "cells": [
  {
   "cell_type": "markdown",
   "metadata": {
    "id": "ijGzTHJJUCPY"
   },
   "source": [
    "Copyright 2024 Google LLC <br>\n",
    "|Author(s) | [Holt Skinner](https://github.com/holtskinner), [Drew Gillson](https://github.com/drewgillson) |"
   ]
  },
  {
   "cell_type": "code",
   "execution_count": 3,
   "metadata": {
    "id": "tFy3H3aPgx12"
   },
   "outputs": [
    {
     "name": "stdout",
     "output_type": "stream",
     "text": [
      "Note: you may need to restart the kernel to use updated packages.\n"
     ]
    }
   ],
   "source": [
    "%pip install --upgrade --quiet google-cloud-aiplatform"
   ]
  },
  {
   "cell_type": "code",
   "execution_count": 4,
   "metadata": {
    "id": "XRvKdaPDTznN"
   },
   "outputs": [
    {
     "data": {
      "text/plain": [
       "{'status': 'ok', 'restart': True}"
      ]
     },
     "execution_count": 4,
     "metadata": {},
     "output_type": "execute_result"
    }
   ],
   "source": [
    "import IPython\n",
    "app = IPython.Application.instance()\n",
    "app.kernel.do_shutdown(True)"
   ]
  },
  {
   "cell_type": "markdown",
   "metadata": {
    "id": "SbmM4z7FOBpM"
   },
   "source": [
    "<div class=\"alert alert-block alert-warning\">\n",
    "<b>⚠️ The kernel is going to restart. Please wait until it is finished before continuing to the next step. ⚠️</b>\n",
    "</div>\n"
   ]
  },
  {
   "cell_type": "code",
   "execution_count": 2,
   "metadata": {
    "id": "Nqwi-5ufWp_B"
   },
   "outputs": [],
   "source": [
    "PROJECT_ID = \"llm-studies\"  # @param {type:\"string\"}\n",
    "LOCATION = \"us-central1\"  # @param {type:\"string\"}\n",
    "import vertexai\n",
    "vertexai.init(project=PROJECT_ID, location=LOCATION)"
   ]
  },
  {
   "cell_type": "code",
   "execution_count": 3,
   "metadata": {
    "id": "lslYAvw37JGQ"
   },
   "outputs": [],
   "source": [
    "import json\n",
    "\n",
    "from IPython.display import Markdown, display_pdf\n",
    "from vertexai.generative_models import (\n",
    "    GenerationConfig,\n",
    "    GenerativeModel,\n",
    "    HarmBlockThreshold,\n",
    "    HarmCategory,\n",
    "    Part,\n",
    ")"
   ]
  },
  {
   "cell_type": "code",
   "execution_count": 6,
   "metadata": {
    "id": "lRyTw2iPhEXG"
   },
   "outputs": [],
   "source": [
    "#Load the Gemini 1.5 Flash model\n",
    "model = GenerativeModel(\n",
    "    \"gemini-1.5-flash\",\n",
    "    safety_settings={\n",
    "        HarmCategory.HARM_CATEGORY_DANGEROUS_CONTENT: HarmBlockThreshold.BLOCK_ONLY_HIGH\n",
    "    },\n",
    ")\n",
    "# This Generation Config sets the model to respond in JSON format.\n",
    "generation_config = GenerationConfig(\n",
    "    temperature=0.0, response_mime_type=\"application/json\"\n",
    ")"
   ]
  },
  {
   "cell_type": "code",
   "execution_count": 7,
   "metadata": {
    "id": "NQS13DI6Pjp6"
   },
   "outputs": [],
   "source": [
    "PDF_MIME_TYPE = \"application/pdf\"\n",
    "\n",
    "\n",
    "def print_multimodal_prompt(contents: list) -> None:\n",
    "    \"\"\"\n",
    "    Given contents that would be sent to Gemini,\n",
    "    output the full multimodal prompt for ease of readability.\n",
    "    \"\"\"\n",
    "    for content in contents:\n",
    "        if not isinstance(content, Part):\n",
    "            print(content)\n",
    "        elif content.inline_data:\n",
    "            display_pdf(content.inline_data.data)\n",
    "        elif content.file_data:\n",
    "            gcs_url = (\n",
    "                \"https://storage.googleapis.com/\"\n",
    "                + content.file_data.file_uri.replace(\"gs://\", \"\").replace(\" \", \"%20\")\n",
    "            )\n",
    "            print(f\"PDF URL: {gcs_url}\")\n",
    "\n",
    "\n",
    "# Send Google Cloud Storage Document to Vertex AI\n",
    "def process_document(\n",
    "    prompt: str,\n",
    "    file_uri: str,\n",
    "    mime_type: str = PDF_MIME_TYPE,\n",
    "    generation_config: GenerationConfig | None = None,\n",
    "    print_prompt: bool = False,\n",
    "    print_raw_response: bool = False,\n",
    ") -> str:\n",
    "    # Load file directly from Google Cloud Storage\n",
    "    file_part = Part.from_uri(\n",
    "        uri=file_uri,\n",
    "        mime_type=mime_type,\n",
    "    )\n",
    "\n",
    "    # Load contents\n",
    "    contents = [file_part, prompt]\n",
    "\n",
    "    # Send to Gemini\n",
    "    response = model.generate_content(contents, generation_config=generation_config)\n",
    "\n",
    "    if print_prompt:\n",
    "        print(\"-------Prompt--------\")\n",
    "        print_multimodal_prompt(contents)\n",
    "\n",
    "    if print_raw_response:\n",
    "        print(\"\\n-------Raw Response--------\")\n",
    "        print(response)\n",
    "\n",
    "    return response.text"
   ]
  },
  {
   "cell_type": "code",
   "execution_count": 36,
   "metadata": {
    "id": "0841cb312d46"
   },
   "outputs": [],
   "source": [
    "blogger_extraction_prompt = \"\"\"You are a document entity extraction specialist. Given a document, your task is to extract the text value of the following entities:\n",
    "{\n",
    "\t\"authors\": [\n",
    "\t\t{\n",
    "\t\t\t\"author\": \"\",\n",
    "\t\t}\n",
    "\t],\n",
    "\t\"theme\": \"\",\n",
    "\t\"philosophical area\": \"\",\n",
    "}\n",
    "\n",
    "- The JSON schema must be followed during the extraction.\n",
    "- The values must only include text found in the document\n",
    "- Do not normalize any entity value.\n",
    "- If an entity is not found in the document, set the entity value to null.\n",
    "- An author is any person name or philosopher found in the document.\n",
    "- If an author is not found in the document, set the entity value to Luis Quissak.\n",
    "\n",
    "\"\"\""
   ]
  },
  {
   "cell_type": "code",
   "execution_count": 34,
   "metadata": {
    "id": "42b044f767e3"
   },
   "outputs": [
    {
     "name": "stderr",
     "output_type": "stream",
     "text": [
      "Copying gs://blog-files-2024/all/pdf2/2015-12-26_Platão_à_guisa_de_introdução.pdf...\n",
      "/ [0 files][    0.0 B/ 99.4 KiB]                                                \n",
      "-\n",
      "- [1 files][ 99.4 KiB/ 99.4 KiB]                                                \n",
      "\n",
      "Operation completed over 1 objects/99.4 KiB.                                     \n"
     ]
    }
   ],
   "source": [
    "# Download a PDF from Google Cloud Storage\n",
    "! gsutil cp \"gs://blog-files-2024/all/pdf2/2015-12-26_Platão_à_guisa_de_introdução.pdf\" ./post1.pdf"
   ]
  },
  {
   "cell_type": "code",
   "execution_count": 21,
   "metadata": {
    "id": "KzqjpEiryjNo"
   },
   "outputs": [],
   "source": [
    "# Load file bytes\n",
    "with open(\"post1.pdf\", \"rb\") as f:\n",
    "    file_part = Part.from_data(data=f.read(), mime_type=\"application/pdf\")\n",
    "\n",
    "# Load contents\n",
    "contents = [file_part, blogger_extraction_prompt]\n",
    "\n",
    "# Send to Gemini with GenerationConfig\n",
    "response = model.generate_content(contents, generation_config=generation_config)"
   ]
  },
  {
   "cell_type": "code",
   "execution_count": 37,
   "metadata": {
    "id": "63f7f16fabc7"
   },
   "outputs": [
    {
     "name": "stdout",
     "output_type": "stream",
     "text": [
      "-------Prompt--------\n",
      "You are a document entity extraction specialist. Given a document, your task is to extract the text value of the following entities:\n",
      "{\n",
      "\t\"authors\": [\n",
      "\t\t{\n",
      "\t\t\t\"author\": \"\",\n",
      "\t\t}\n",
      "\t],\n",
      "\t\"theme\": \"\",\n",
      "\t\"philosophical area\": \"\",\n",
      "}\n",
      "\n",
      "- The JSON schema must be followed during the extraction.\n",
      "- The values must only include text found in the document\n",
      "- Do not normalize any entity value.\n",
      "- If an entity is not found in the document, set the entity value to null.\n",
      "\n",
      "\n",
      "-------Raw Response--------\n",
      "{\"authors\": [{\"author\": \"Platão\"}], \"theme\": \"Teoria do Conhecimento\", \"philosophical area\": null}\n"
     ]
    }
   ],
   "source": [
    "print(\"-------Prompt--------\")\n",
    "print_multimodal_prompt(contents)\n",
    "\n",
    "print(\"\\n-------Raw Response--------\")\n",
    "print(response.text)"
   ]
  },
  {
   "cell_type": "markdown",
   "metadata": {
    "id": "c82b9d10e9d1"
   },
   "source": [
    "This response can then be parsed as JSON into a Python dictionary for use in other applications."
   ]
  },
  {
   "cell_type": "code",
   "execution_count": 17,
   "metadata": {
    "id": "ce9731cb0a84"
   },
   "outputs": [
    {
     "name": "stdout",
     "output_type": "stream",
     "text": [
      "\n",
      "-------Parsed Entities--------\n",
      "{'authors': [{'author': 'Platão'}], 'theme': 'Teoria do Conhecimento', 'philosophical area': None}\n"
     ]
    }
   ],
   "source": [
    "print(\"\\n-------Parsed Entities--------\")\n",
    "json_object = json.loads(response.text)\n",
    "print(json_object)"
   ]
  },
  {
   "cell_type": "markdown",
   "metadata": {
    "id": "c7cdda6aa720"
   },
   "source": [
    "You can see that Gemini extracted all of the relevant fields from the document."
   ]
  },
  {
   "cell_type": "code",
   "execution_count": 40,
   "metadata": {
    "id": "06d34a6f08d9"
   },
   "outputs": [
    {
     "name": "stdout",
     "output_type": "stream",
     "text": [
      "-------Prompt--------\n",
      "PDF URL: https://storage.googleapis.com/blog-files-2024/all/pdf2/2024-01-26_As_abstrações_do_Bispo_Berkeley.pdf\n",
      "You are a document entity extraction specialist. Given a document, your task is to extract the text value of the following entities:\n",
      "{\n",
      "\t\"authors\": [\n",
      "\t\t{\n",
      "\t\t\t\"author\": \"\",\n",
      "\t\t}\n",
      "\t],\n",
      "\t\"theme\": \"\",\n",
      "\t\"philosophical area\": \"\",\n",
      "}\n",
      "\n",
      "- The JSON schema must be followed during the extraction.\n",
      "- The values must only include text found in the document\n",
      "- Do not normalize any entity value.\n",
      "- If an entity is not found in the document, set the entity value to null.\n",
      "- An author is any person name or philosopher found in the document.\n",
      "- If an author is not found in the document, set the entity value to Luis Quissak.\n",
      "\n",
      "\n"
     ]
    }
   ],
   "source": [
    "response_text = process_document(\n",
    "    blogger_extraction_prompt,\n",
    "#    \"gs://blog-files-2024/all/pdf2/2013-11-08_Liberdade.pdf\",\n",
    "    \"gs://blog-files-2024/all/pdf2/2024-01-26_As_abstrações_do_Bispo_Berkeley.pdf\",\n",
    "    #\"gs://blog-files-2024/all/pdf2/2014-03-12_Tzvetan,_Pondé,_Safatle.pdf\",\n",
    "    #\"gs://blog-files-2024/all/pdf2/2015-12-26_Platão_à_guisa_de_introdução.pdf\",\n",
    "    generation_config=generation_config,\n",
    "    print_prompt=True,\n",
    ")"
   ]
  },
  {
   "cell_type": "code",
   "execution_count": 41,
   "metadata": {
    "id": "230b3ae51289"
   },
   "outputs": [
    {
     "name": "stdout",
     "output_type": "stream",
     "text": [
      "\n",
      "-------Parsed Entities--------\n",
      "{'authors': [{'author': 'Bispo Berkeley'}, {'author': 'Locke'}, {'author': 'Boyle'}, {'author': 'Hacking'}, {'author': 'Hobbes'}, {'author': 'Platão'}, {'author': 'Wittgenstein'}, {'author': 'Descartes'}], 'theme': 'As abstrações do Bispo Berkeley', 'philosophical area': 'Filosofia corpuscular'}\n"
     ]
    }
   ],
   "source": [
    "print(\"\\n-------Parsed Entities--------\")\n",
    "json_object = json.loads(response_text)\n",
    "print(json_object)"
   ]
  },
  {
   "cell_type": "markdown",
   "metadata": {
    "id": "Uhtahn_jTZKC"
   },
   "source": [
    "## Document Classification\n",
    "\n",
    "Document classification is the process for identifying the type of document. For example, invoice, W-2, receipt, etc.\n",
    "\n",
    "In this example, you will use a sample tax form (W-9) and get the specific type of document from a specified list."
   ]
  },
  {
   "cell_type": "code",
   "execution_count": 24,
   "metadata": {
    "id": "d797c2bfb490"
   },
   "outputs": [],
   "source": [
    "classification_prompt = \"\"\"You are a document classification assistant. Given a document, your task is to find which category the document belongs to from the list of document categories provided below.\n",
    "\n",
    " Antropologia\n",
    " Ciência\n",
    " Crônica\n",
    " Educação\n",
    " Epistemologia\n",
    " Ética\n",
    " Liberdade\n",
    " Linguagem\n",
    " Marxismo\n",
    " Mente\n",
    " Ontologia Social\n",
    " Poesia\n",
    " Política\n",
    " Psicanálise\n",
    " Tecnologia\n",
    "\n",
    "Which category does the above document belong to? Answer with one of the predefined document categories only.\n",
    "\"\"\""
   ]
  },
  {
   "cell_type": "code",
   "execution_count": 25,
   "metadata": {
    "id": "7dcab4a008a5"
   },
   "outputs": [
    {
     "name": "stdout",
     "output_type": "stream",
     "text": [
      "-------Prompt--------\n",
      "PDF URL: https://storage.googleapis.com/blog-files-2024/all/pdf2/2015-12-26_Platão_à_guisa_de_introdução.pdf\n",
      "You are a document classification assistant. Given a document, your task is to find which category the document belongs to from the list of document categories provided below.\n",
      "\n",
      " Antropologia\n",
      " Ciência\n",
      " Crônica\n",
      " Educação\n",
      " Epistemologia\n",
      " Ética\n",
      " Liberdade\n",
      " Linguagem\n",
      " Marxismo\n",
      " Mente\n",
      " Ontologia Social\n",
      " Poesia\n",
      " Política\n",
      " Psicanálise\n",
      " Tecnologia\n",
      "\n",
      "Which category does the above document belong to? Answer with one of the predefined document categories only.\n",
      "\n"
     ]
    }
   ],
   "source": [
    "response_text = process_document(\n",
    "    classification_prompt,\n",
    "    \"gs://blog-files-2024/all/pdf2/2015-12-26_Platão_à_guisa_de_introdução.pdf\",\n",
    "    print_prompt=True,\n",
    ")"
   ]
  },
  {
   "cell_type": "code",
   "execution_count": 26,
   "metadata": {
    "id": "200922ddac39"
   },
   "outputs": [
    {
     "name": "stdout",
     "output_type": "stream",
     "text": [
      "\n",
      "-------Document Classification--------\n",
      "Epistemologia \n",
      "\n"
     ]
    }
   ],
   "source": [
    "print(\"\\n-------Document Classification--------\")\n",
    "print(response_text)"
   ]
  },
  {
   "cell_type": "markdown",
   "metadata": {
    "id": "d99b968e9faa"
   },
   "source": [
    "You can see that Gemini successfully categorized the document."
   ]
  },
  {
   "cell_type": "markdown",
   "metadata": {
    "id": "9c41c7273b66"
   },
   "source": [
    "### Chaining Classification and Extraction\n",
    "\n",
    "These techniques can also be chained together to extract any number of document types. For example, if you have multiple types of documents to process, you can send each document to Gemini with a classification prompt, then based on that output, you can write logic to decide which extraction prompt to use."
   ]
  },
  {
   "cell_type": "code",
   "execution_count": null,
   "metadata": {
    "id": "69fd5883a812"
   },
   "outputs": [],
   "source": [
    "generic_document_prompt = \"\"\"You are a document entity extraction specialist. Given a document, your task is to extract the text value of the following entities:\n",
    "\n",
    "{}\n",
    "\n",
    "- The JSON schema must be followed during the extraction.\n",
    "- The values must only include text found in the document\n",
    "- Do not normalize any entity value.\n",
    "- If an entity is not found in the document, set the entity value to null.\n",
    "\"\"\"\n",
    "\n",
    "w2_extraction_prompt = generic_document_prompt.format(\n",
    "    \"\"\"\n",
    "{\n",
    "    \"ControlNumber\": \"\",\n",
    "    \"EIN\": \"\",\n",
    "    \"EmployeeAddress_City\": \"\",\n",
    "    \"EmployeeAddress_State\": \"\",\n",
    "    \"EmployeeAddress_StreetAddressOrPostalBox\": \"\",\n",
    "    \"EmployeeAddress_Zip\": \"\",\n",
    "    \"EmployeeName_FirstName\": \"\",\n",
    "    \"EmployeeName_LastName\": \"\",\n",
    "    \"EmployerAddress_City\": \"\",\n",
    "    \"EmployerAddress_State\": \"\",\n",
    "    \"EmployerAddress_StreetAddressOrPostalBox\": \"\",\n",
    "    \"EmployerAddress_Zip\": \"\",\n",
    "    \"EmployerName\": \"\",\n",
    "    \"EmployerStateIdNumber_Line1\": \"\",\n",
    "    \"FederalIncomeTaxWithheld\": \"\",\n",
    "    \"FormYear\": \"\",\n",
    "    \"MedicareTaxWithheld\": \"\",\n",
    "    \"MedicareWagesAndTips\": \"\",\n",
    "    \"SocialSecurityTaxWithheld\": \"\",\n",
    "    \"SocialSecurityWages\": \"\",\n",
    "    \"StateIncomeTax_Line1\": \"\",\n",
    "    \"StateWagesTipsEtc_Line1\": \"\",\n",
    "    \"State_Line1\": \"\",\n",
    "    \"WagesTipsOtherCompensation\": \"\",\n",
    "    \"a_Code\": \"\",\n",
    "    \"a_Value\": \"\",\n",
    "}\n",
    "\"\"\"\n",
    ")\n",
    "\n",
    "drivers_license_prompt = generic_document_prompt.format(\n",
    "    \"\"\"\n",
    "{\n",
    "    \"Address\": \"\",\n",
    "    \"Date Of Birth\": \"\",\n",
    "    \"Document Id\": \"\",\n",
    "    \"Expiration Date\": \"\",\n",
    "    \"Family Name\": \"\",\n",
    "    \"Given Names\": \"\",\n",
    "    \"Issue Date\": \"\",\n",
    "}\n",
    "\"\"\"\n",
    ")\n",
    "\n",
    "# Map classification types to extraction prompts\n",
    "classification_to_prompt = {\n",
    "    \"invoice\": invoice_extraction_prompt,\n",
    "    \"w2\": w2_extraction_prompt,\n",
    "    \"driver_license\": drivers_license_prompt,\n",
    "}"
   ]
  },
  {
   "cell_type": "code",
   "execution_count": null,
   "metadata": {
    "id": "2c806b4d757e"
   },
   "outputs": [],
   "source": [
    "gcs_uris = [\n",
    "    \"gs://cloud-samples-data/documentai/SampleDocuments/US_DRIVER_LICENSE_PROCESSOR/dl3.pdf\",\n",
    "    \"gs://cloud-samples-data/documentai/SampleDocuments/INVOICE_PROCESSOR/google_invoice.pdf\",\n",
    "    \"gs://cloud-samples-data/documentai/SampleDocuments/FORM_W2_PROCESSOR/2020FormW-2.pdf\",\n",
    "]\n",
    "\n",
    "for gcs_uri in gcs_uris:\n",
    "    print(f\"\\nFile: {gcs_uri}\\n\")\n",
    "\n",
    "    # Send to Gemini with Classification Prompt\n",
    "    doc_classification = process_document(classification_prompt, gcs_uri).strip()\n",
    "\n",
    "    print(f\"Document Classification: {doc_classification}\")\n",
    "\n",
    "    # Get Extraction prompt based on Classification\n",
    "    extraction_prompt = classification_to_prompt.get(doc_classification)\n",
    "\n",
    "    if not extraction_prompt:\n",
    "        print(f\"Document does not belong to a specified class {doc_classification}\")\n",
    "        continue\n",
    "\n",
    "    # Send to Gemini with Extraction Prompt\n",
    "    extraction_response_text = process_document(\n",
    "        extraction_prompt,\n",
    "        gcs_uri,\n",
    "        generation_config=generation_config,\n",
    "        print_prompt=True,\n",
    "    ).strip()\n",
    "\n",
    "    print(\"\\n-------Extracted Entities--------\")\n",
    "    json_object = json.loads(extraction_response_text)\n",
    "    print(json_object)"
   ]
  },
  {
   "cell_type": "markdown",
   "metadata": {
    "id": "322abdb6d63d"
   },
   "source": [
    "## Document Question Answering\n",
    "\n",
    "Gemini can be used to answer questions about a document.\n",
    "\n",
    "This example answers a question about the Transformer model paper \"Attention is all you need\"."
   ]
  },
  {
   "cell_type": "code",
   "execution_count": null,
   "metadata": {
    "id": "f47a8b63ce13"
   },
   "outputs": [],
   "source": [
    "qa_prompt = \"\"\"What is attention in the context of transformer models? Give me the answer first, followed by an explanation.\"\"\""
   ]
  },
  {
   "cell_type": "code",
   "execution_count": null,
   "metadata": {
    "id": "636f158c24fb"
   },
   "outputs": [],
   "source": [
    "# Send Q&A Prompt to Gemini\n",
    "response_text = process_document(\n",
    "    qa_prompt,\n",
    "    \"gs://cloud-samples-data/generative-ai/pdf/1706.03762v7.pdf\",\n",
    ")\n",
    "\n",
    "print(f\"Answer: {response_text}\")"
   ]
  },
  {
   "cell_type": "markdown",
   "metadata": {
    "id": "d5881bdeb3b0"
   },
   "source": [
    "## Document Summarization\n",
    "\n",
    "Gemini can also be used to summarize or paraphrase a document's contents. Your prompt can specify how detailed the summary should be or specific formatting, such as bullet points or paragraphs."
   ]
  },
  {
   "cell_type": "code",
   "execution_count": 44,
   "metadata": {
    "id": "85b23b916ffa"
   },
   "outputs": [],
   "source": [
    "summarization_prompt = \"\"\"You are a very professional document summarization specialist and a philosopher. Given a document, your task is to provide a detailed summary of the content of the document.\n",
    "\n",
    "If it includes images, provide descriptions of the images.\n",
    "If it includes tables, extract all elements of the tables.\n",
    "If it includes graphs, explain the findings in the graphs.\n",
    "Do not include any numbers that are not mentioned in the document.\n",
    "Answer in portuguese.\n",
    "\"\"\""
   ]
  },
  {
   "cell_type": "code",
   "execution_count": 45,
   "metadata": {
    "id": "01c2c8c947e0"
   },
   "outputs": [
    {
     "name": "stdout",
     "output_type": "stream",
     "text": [
      "Summarization: O documento apresenta uma análise da filosofia de Platão, dividida em três tópicos: teoria do conhecimento, escatologia e antropologia. \n",
      "\n",
      "* **Teoria do conhecimento:** Platão critica a definição de conceitos como \"coragem\" e \"beleza\" a partir de exemplos concretos, pois argumenta que tais conceitos não são apreensíveis a partir do mundo sensível. Para ele, o verdadeiro conhecimento reside na compreensão das formas (ou ideias) que estão por trás das coisas e que são universais e imutáveis. Para acessar esse mundo das formas, o indivíduo deve se valer da razão e não das emoções. O Bem, que é o sol que ilumina tudo, é a principal forma a ser buscada.\n",
      "\n",
      "* **Escatologia:** Platão acredita que a alma existe antes do corpo e que ela tem acesso às formas. O corpo polui a alma e a impede de voltar à sua pureza original. A busca pela virtude e a vida frugal permitem que a alma se liberte do corpo e se aproxime de Deus.\n",
      "\n",
      "* **Antropologia:** Para Platão, a alma é composta por três partes: a apetitiva (ligada aos desejos), a volitiva (ligada aos afetos e paixões) e a racional (responsável por conduzir e orientar). Cada parte está associada a uma virtude: agradável, justa e sapiente, respectivamente. O ideal é buscar a justiça e o conhecimento, expressando as virtudes da alma em detrimento dos vícios. O mito da constituição das raças defende que cada homem tem uma parte da alma mais intensa e que ele deve ocupar determinado lugar na sociedade, com base na sua natureza: os agricultores (alma de bronze), os guerreiros (alma de prata) e os governantes (alma de ouro). \n",
      "\n",
      "O documento também aborda a política e a educação platônicas. O governo ideal, para Platão, seria uma aristocracia governada pelos filósofos, pois eles são os únicos que conhecem a verdade e podem conduzir a sociedade. A educação deve ser pensada para formar indivíduos que reflitam esse modelo social, investindo mais em quem possui alma de ouro. A educação platônica visa aprimorar a natureza humana, utilizando modelos para moldar o corpo e a alma e conduzir o indivíduo ao conhecimento das formas, ou seja, ao mundo real platônico. \n",
      "\n"
     ]
    }
   ],
   "source": [
    "# Send Summarization Prompt to Gemini\n",
    "response_text = process_document(\n",
    "    summarization_prompt,\n",
    "    \"gs://blog-files-2024/all/pdf2/2015-12-26_Platão_à_guisa_de_introdução.pdf\",\n",
    ")\n",
    "\n",
    "print(f\"Summarization: {response_text}\")"
   ]
  },
  {
   "cell_type": "markdown",
   "metadata": {
    "id": "85015f00a36f"
   },
   "source": [
    "## Table parsing from documents\n",
    "\n",
    "Gemini can parse contents of a table and return it in a structured format, such as HTML or markdown."
   ]
  },
  {
   "cell_type": "code",
   "execution_count": null,
   "metadata": {
    "id": "b780755d42e0"
   },
   "outputs": [],
   "source": [
    "table_extraction_prompt = \"\"\"What is the html code of the table in this document?\"\"\""
   ]
  },
  {
   "cell_type": "code",
   "execution_count": null,
   "metadata": {
    "id": "2ad318a19c6a"
   },
   "outputs": [],
   "source": [
    "# Send Table Extraction Prompt to Gemini\n",
    "response_text = process_document(\n",
    "    table_extraction_prompt,\n",
    "    \"gs://cloud-samples-data/generative-ai/pdf/salary_table.pdf\",\n",
    ")\n",
    "display(Markdown(response_text))"
   ]
  },
  {
   "cell_type": "markdown",
   "metadata": {
    "id": "1ebe7318abf6"
   },
   "source": [
    "## Document Translation\n",
    "\n",
    "Gemini can translate documents between languages. This example translates meeting notes from English into French and Spanish."
   ]
  },
  {
   "cell_type": "code",
   "execution_count": null,
   "metadata": {
    "id": "c03f55376e76"
   },
   "outputs": [],
   "source": [
    "translation_prompt = \"\"\"Translate the first paragraph into French and Spanish. Label each paragraph with the target language.\"\"\""
   ]
  },
  {
   "cell_type": "code",
   "execution_count": null,
   "metadata": {
    "id": "0e22d1c06508"
   },
   "outputs": [],
   "source": [
    "# Send Translation Prompt to Gemini\n",
    "response_text = process_document(\n",
    "    translation_prompt,\n",
    "    \"gs://cloud-samples-data/generative-ai/pdf/fdic_board_meeting.pdf\",\n",
    ")\n",
    "\n",
    "print(response_text)"
   ]
  },
  {
   "cell_type": "markdown",
   "metadata": {
    "id": "0e8111f438db"
   },
   "source": [
    "## Document Comparison\n",
    "\n",
    "Gemini can compare and contrast the contents of multiple documents. This example finds the changes in the IRS Form 1040 between 2013 and 2023.\n",
    "\n",
    "Note: when working with multiple documents, the order can matter and should be specified in your prompt."
   ]
  },
  {
   "cell_type": "code",
   "execution_count": null,
   "metadata": {
    "id": "62bd15c5553f"
   },
   "outputs": [],
   "source": [
    "comparison_prompt = \"\"\"The first document is from 2013, the second one from 2023. How did the standard deduction evolve?\"\"\""
   ]
  },
  {
   "cell_type": "code",
   "execution_count": null,
   "metadata": {
    "id": "e5f07456ed8d"
   },
   "outputs": [],
   "source": [
    "# Send Comparison Prompt to Gemini\n",
    "file_part1 = Part.from_uri(\n",
    "    uri=\"gs://cloud-samples-data/generative-ai/pdf/form_1040_2013.pdf\",\n",
    "    mime_type=PDF_MIME_TYPE,\n",
    ")\n",
    "\n",
    "file_part2 = Part.from_uri(\n",
    "    uri=\"gs://cloud-samples-data/generative-ai/pdf/form_1040_2023.pdf\",\n",
    "    mime_type=PDF_MIME_TYPE,\n",
    ")\n",
    "\n",
    "# Load contents\n",
    "contents = [file_part1, file_part2, comparison_prompt]\n",
    "\n",
    "# Send to Gemini\n",
    "response = model.generate_content(contents)\n",
    "\n",
    "print(\"-------Prompt--------\")\n",
    "print_multimodal_prompt(contents)\n",
    "\n",
    "print(\"-------Output--------\")\n",
    "print(response.text)"
   ]
  }
 ],
 "metadata": {
  "colab": {
   "name": "document_processing.ipynb",
   "toc_visible": true
  },
  "kernelspec": {
   "display_name": "Python 3 (ipykernel)",
   "language": "python",
   "name": "python3"
  },
  "language_info": {
   "codemirror_mode": {
    "name": "ipython",
    "version": 3
   },
   "file_extension": ".py",
   "mimetype": "text/x-python",
   "name": "python",
   "nbconvert_exporter": "python",
   "pygments_lexer": "ipython3",
   "version": "3.12.1"
  }
 },
 "nbformat": 4,
 "nbformat_minor": 4
}
