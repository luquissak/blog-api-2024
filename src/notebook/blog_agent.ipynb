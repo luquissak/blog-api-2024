{
 "cells": [
  {
   "cell_type": "markdown",
   "id": "504d74cf-b1ea-4ed6-a4b8-bd38da17a527",
   "metadata": {},
   "source": [
    "## Build an Agent\n",
    "\n",
    "<br>\n",
    "\n",
    "https://python.langchain.com/docs/tutorials/agents/"
   ]
  },
  {
   "cell_type": "markdown",
   "id": "1eaa5028-d4c1-45a4-9be7-45935cfc87f4",
   "metadata": {},
   "source": [
    "### Install"
   ]
  },
  {
   "cell_type": "code",
   "execution_count": null,
   "id": "c8b2364a-0c51-4137-9303-1c5d4625fb2e",
   "metadata": {},
   "outputs": [],
   "source": [
    "%pip install -U langchain-community langgraph langchain-google-vertexai tavily-python langgraph-checkpoint-sqlite --quiet"
   ]
  },
  {
   "cell_type": "markdown",
   "id": "a4b51142-5604-4cb0-823c-64f16ba5ccd3",
   "metadata": {},
   "source": [
    "### Libs and variables"
   ]
  },
  {
   "cell_type": "code",
   "execution_count": 55,
   "id": "4e4587c3-baba-4bd1-a56f-8f46ade62f46",
   "metadata": {},
   "outputs": [],
   "source": [
    "import os\n",
    "from dotenv import load_dotenv\n",
    "from langchain_community.tools.tavily_search import TavilySearchResults\n",
    "from langchain.chat_models import init_chat_model\n",
    "from langchain_core.messages import HumanMessage\n",
    "from langgraph.prebuilt import create_react_agent\n",
    "from langgraph.checkpoint.memory import MemorySaver"
   ]
  },
  {
   "cell_type": "code",
   "execution_count": 56,
   "id": "f062b5ae-ea1d-4656-a9de-1ad99efbde16",
   "metadata": {},
   "outputs": [
    {
     "data": {
      "text/plain": [
       "True"
      ]
     },
     "execution_count": 56,
     "metadata": {},
     "output_type": "execute_result"
    }
   ],
   "source": [
    "load_dotenv()"
   ]
  },
  {
   "cell_type": "code",
   "execution_count": 57,
   "id": "0570c946-0c94-4110-879c-72a08e28d828",
   "metadata": {},
   "outputs": [],
   "source": [
    "assert \"LANGSMITH_TRACING\" in os.environ, \"Please set the LANGSMITH_TRACING environment variable.\"\n",
    "assert \"LANGSMITH_API_KEY\" in os.environ, \"Please set the LANGSMITH_API_KEY environment variable.\"\n",
    "assert \"TAVILY_API_KEY\" in os.environ, \"Please set the TAVILY_API_KEY environment variable.\""
   ]
  },
  {
   "cell_type": "markdown",
   "id": "bbc7d608-c634-43ba-a830-604ac5bad4f8",
   "metadata": {},
   "source": [
    "### Tools"
   ]
  },
  {
   "cell_type": "code",
   "execution_count": 58,
   "id": "2b3413fc-323f-4299-9c48-92e181467ccd",
   "metadata": {},
   "outputs": [],
   "source": [
    "search = TavilySearchResults(max_results=2)\n",
    "search_results = search.invoke(\"que horas são em São Paulo\")\n",
    "tools = [search]"
   ]
  },
  {
   "cell_type": "markdown",
   "id": "2efb830b-94c8-4dfd-9862-45a93c2578e4",
   "metadata": {},
   "source": [
    "### Model"
   ]
  },
  {
   "cell_type": "code",
   "execution_count": 72,
   "id": "33b879b4-96bc-4072-9472-6495c811a9dd",
   "metadata": {},
   "outputs": [
    {
     "data": {
      "text/plain": [
       "{'input_tokens': 2, 'output_tokens': 11, 'total_tokens': 13}"
      ]
     },
     "execution_count": 72,
     "metadata": {},
     "output_type": "execute_result"
    }
   ],
   "source": [
    "model = init_chat_model(\"gemini-2.0-flash-001\", model_provider=\"google_vertexai\")\n",
    "response = model.invoke([HumanMessage(content=\"hi!\")])\n",
    "response.usage_metadata"
   ]
  },
  {
   "cell_type": "code",
   "execution_count": 61,
   "id": "7e882f1c-3206-48b6-98a7-c60596088a09",
   "metadata": {},
   "outputs": [],
   "source": [
    "model_with_tools = model.bind_tools(tools)"
   ]
  },
  {
   "cell_type": "code",
   "execution_count": 63,
   "id": "546025cf-62e6-4576-9aff-486eaba7c13b",
   "metadata": {},
   "outputs": [
    {
     "name": "stdout",
     "output_type": "stream",
     "text": [
      "ContentString: I am sorry, I do not have the current time for São Paulo. I can provide information on current events if you like.\n",
      "ToolCalls: []\n"
     ]
    }
   ],
   "source": [
    "response = model_with_tools.invoke([HumanMessage(content=\"que horas são em São Paulo\")])\n",
    "print(f\"ContentString: {response.content}\")\n",
    "print(f\"ToolCalls: {response.tool_calls}\")"
   ]
  },
  {
   "cell_type": "markdown",
   "id": "1957c2b5-4732-4e13-8609-1e876a6b78aa",
   "metadata": {},
   "source": [
    "### Agent"
   ]
  },
  {
   "cell_type": "code",
   "execution_count": 65,
   "id": "24e6d714-ea62-4096-95bd-b79949078a54",
   "metadata": {},
   "outputs": [],
   "source": [
    "agent_executor = create_react_agent(model, tools)"
   ]
  },
  {
   "cell_type": "code",
   "execution_count": 66,
   "id": "ad885013-b2dd-44ca-b609-ea0282889305",
   "metadata": {},
   "outputs": [
    {
     "data": {
      "text/plain": [
       "[HumanMessage(content='que horas são em São Paulo', additional_kwargs={}, response_metadata={}, id='828bd16c-7ac3-4f82-a69c-eb6c18de52d0'),\n",
       " AIMessage(content='', additional_kwargs={'function_call': {'name': 'tavily_search_results_json', 'arguments': '{\"query\": \"hora atual em S\\\\u00e3o Paulo\"}'}}, response_metadata={'is_blocked': False, 'safety_ratings': [], 'usage_metadata': {'prompt_token_count': 53, 'candidates_token_count': 14, 'total_token_count': 67, 'prompt_tokens_details': [{'modality': 1, 'token_count': 53}], 'candidates_tokens_details': [{'modality': 1, 'token_count': 14}], 'cached_content_token_count': 0, 'cache_tokens_details': []}, 'finish_reason': 'STOP', 'avg_logprobs': -0.026951187423297336}, id='run-7384a169-dbcc-4051-a9aa-f2729cc98fce-0', tool_calls=[{'name': 'tavily_search_results_json', 'args': {'query': 'hora atual em São Paulo'}, 'id': '53474e5d-8887-44b7-b9ff-fc6f37940dae', 'type': 'tool_call'}], usage_metadata={'input_tokens': 53, 'output_tokens': 14, 'total_tokens': 67}),\n",
       " ToolMessage(content='[{\"title\": \"Hora em São Paulo, Brasil agora - Time.is\", \"url\": \"https://time.is/pt_br/S%C3%A3o_Paulo\", \"content\": \"Hora em São Paulo, Brasil agora. Seu relógio está 18 horas, 37 minutos e 6,9 segundos atrasado. A precisão da sincronização foi de ±0,005 segundos.\", \"score\": 0.90633047}, {\"title\": \"Current Local Time in São Paulo, São Paulo, Brazil - Time and Date\", \"url\": \"https://www.timeanddate.com/worldclock/brazil/sao-paulo\", \"content\": \"Current Local Time in São Paulo, São Paulo, Brazil Time Zone News Calendar & Holiday News Time Zones Time Zones Home Time Zone Converter Time Zone Map Time Zone News Calendar & Holiday News Moon Calculator Calculators Home \\xa0 Time Zones \\xa0 World Clock \\xa0 Brazil \\xa0 São Paulo Current Local Time in São Paulo, São Paulo, Brazil Time Zone Sunrise & Sunset Time Zone More Sun & Moon in São Paulo Time Zone Converter for São Paulo Event Time Announcer for São Paulo Time difference between São Paulo and other locations Distance calculator to/from São Paulo Calendar & Holidays São Paulo Sun & Moon times precise to the second. © Time and Date AS 1995–2025 Time Zones Calculators © Time and Date AS 1995–2025.\", \"score\": 0.6959795}]', name='tavily_search_results_json', id='e59ecf5e-4a21-4e10-b797-4261ec1eee88', tool_call_id='53474e5d-8887-44b7-b9ff-fc6f37940dae', artifact={'query': 'hora atual em São Paulo', 'follow_up_questions': None, 'answer': None, 'images': [], 'results': [{'url': 'https://time.is/pt_br/S%C3%A3o_Paulo', 'title': 'Hora em São Paulo, Brasil agora - Time.is', 'content': 'Hora em São Paulo, Brasil agora. Seu relógio está 18 horas, 37 minutos e 6,9 segundos atrasado. A precisão da sincronização foi de ±0,005 segundos.', 'score': 0.90633047, 'raw_content': None}, {'url': 'https://www.timeanddate.com/worldclock/brazil/sao-paulo', 'title': 'Current Local Time in São Paulo, São Paulo, Brazil - Time and Date', 'content': 'Current Local Time in São Paulo, São Paulo, Brazil Time Zone News Calendar & Holiday News Time Zones Time Zones Home Time Zone Converter Time Zone Map Time Zone News Calendar & Holiday News Moon Calculator Calculators Home \\xa0 Time Zones \\xa0 World Clock \\xa0 Brazil \\xa0 São Paulo Current Local Time in São Paulo, São Paulo, Brazil Time Zone Sunrise & Sunset Time Zone More Sun & Moon in São Paulo Time Zone Converter for São Paulo Event Time Announcer for São Paulo Time difference between São Paulo and other locations Distance calculator to/from São Paulo Calendar & Holidays São Paulo Sun & Moon times precise to the second. © Time and Date AS 1995–2025 Time Zones Calculators © Time and Date AS 1995–2025.', 'score': 0.6959795, 'raw_content': None}], 'response_time': 1.81}),\n",
       " AIMessage(content='Agora em São Paulo, Brasil, são 18 horas, 37 minutos e alguns segundos.', additional_kwargs={}, response_metadata={'is_blocked': False, 'safety_ratings': [], 'usage_metadata': {'prompt_token_count': 399, 'candidates_token_count': 21, 'total_token_count': 420, 'prompt_tokens_details': [{'modality': 1, 'token_count': 399}], 'candidates_tokens_details': [{'modality': 1, 'token_count': 21}], 'cached_content_token_count': 0, 'cache_tokens_details': []}, 'finish_reason': 'STOP', 'avg_logprobs': -0.05580042089734759}, id='run-fd86050f-f207-4c14-b03c-2e06349ef7ce-0', usage_metadata={'input_tokens': 399, 'output_tokens': 21, 'total_tokens': 420})]"
      ]
     },
     "execution_count": 66,
     "metadata": {},
     "output_type": "execute_result"
    }
   ],
   "source": [
    "response = agent_executor.invoke({\"messages\": [HumanMessage(content=\"que horas são em São Paulo\")]})\n",
    "response[\"messages\"]"
   ]
  },
  {
   "cell_type": "code",
   "execution_count": 68,
   "id": "1cba90c9-aee2-4d7f-ae7a-2a3e402c4451",
   "metadata": {},
   "outputs": [
    {
     "name": "stdout",
     "output_type": "stream",
     "text": [
      "================================\u001b[1m Human Message \u001b[0m=================================\n",
      "\n",
      "que horas são em São Paulo\n",
      "==================================\u001b[1m Ai Message \u001b[0m==================================\n",
      "\n",
      "Para saber que horas são em São Paulo, preciso fazer uma pesquisa online. Qual seria uma boa frase de busca para isso?\n"
     ]
    }
   ],
   "source": [
    "for step in agent_executor.stream(\n",
    "    {\"messages\": [HumanMessage(content=\"que horas são em São Paulo\")]},\n",
    "    stream_mode=\"values\",\n",
    "):\n",
    "    step[\"messages\"][-1].pretty_print()"
   ]
  },
  {
   "cell_type": "code",
   "execution_count": 69,
   "id": "159ff289-2900-4a29-8fa7-a4c024acd6ea",
   "metadata": {},
   "outputs": [
    {
     "name": "stdout",
     "output_type": "stream",
     "text": [
      "No| momento, não consigo fornecer a hora exata em São Paulo.|"
     ]
    }
   ],
   "source": [
    "for step, metadata in agent_executor.stream(\n",
    "    {\"messages\": [HumanMessage(content=\"que horas são em São Paulo\")]},\n",
    "    stream_mode=\"messages\",\n",
    "):\n",
    "    if metadata[\"langgraph_node\"] == \"agent\" and (text := step.text()):\n",
    "        print(text, end=\"|\")"
   ]
  },
  {
   "cell_type": "markdown",
   "id": "7556975f-a105-4874-a834-c922154fc10b",
   "metadata": {},
   "source": [
    "### Memory"
   ]
  },
  {
   "cell_type": "code",
   "execution_count": 52,
   "id": "a9a4313f-3d44-45e9-bc6e-3deb00029198",
   "metadata": {},
   "outputs": [],
   "source": [
    "memory = MemorySaver()"
   ]
  },
  {
   "cell_type": "code",
   "execution_count": 70,
   "id": "e24c7262-3ac7-40ee-878d-87b4bb194044",
   "metadata": {},
   "outputs": [],
   "source": [
    "agent_executor = create_react_agent(model, tools, checkpointer=memory)\n",
    "\n",
    "config = {\"configurable\": {\"thread_id\": \"abc123\"}}"
   ]
  },
  {
   "cell_type": "code",
   "execution_count": 71,
   "id": "b0e32b2b-eb05-43db-910a-b5ae8d9ddcb1",
   "metadata": {},
   "outputs": [
    {
     "name": "stdout",
     "output_type": "stream",
     "text": [
      "{'agent': {'messages': [AIMessage(content='Hello Bob! How can I assist you today?\\n', additional_kwargs={}, response_metadata={'is_blocked': False, 'safety_ratings': [], 'usage_metadata': {'prompt_token_count': 66, 'candidates_token_count': 11, 'total_token_count': 77, 'prompt_tokens_details': [{'modality': 1, 'token_count': 66}], 'candidates_tokens_details': [{'modality': 1, 'token_count': 11}], 'cached_content_token_count': 0, 'cache_tokens_details': []}, 'finish_reason': 'STOP', 'avg_logprobs': -0.0005913819609717889}, id='run-7a27443c-4f56-4ff9-998f-212d08f9cdd5-0', usage_metadata={'input_tokens': 66, 'output_tokens': 11, 'total_tokens': 77})]}}\n",
      "----\n"
     ]
    }
   ],
   "source": [
    "for chunk in agent_executor.stream(\n",
    "    {\"messages\": [HumanMessage(content=\"hi im bob!\")]}, config\n",
    "):\n",
    "    print(chunk)\n",
    "    print(\"----\")"
   ]
  },
  {
   "cell_type": "code",
   "execution_count": null,
   "id": "3a0014ea-5769-4a63-8608-93ad19aebc66",
   "metadata": {},
   "outputs": [],
   "source": []
  }
 ],
 "metadata": {
  "kernelspec": {
   "display_name": "Python 3 (ipykernel)",
   "language": "python",
   "name": "python3"
  },
  "language_info": {
   "codemirror_mode": {
    "name": "ipython",
    "version": 3
   },
   "file_extension": ".py",
   "mimetype": "text/x-python",
   "name": "python",
   "nbconvert_exporter": "python",
   "pygments_lexer": "ipython3",
   "version": "3.12.1"
  }
 },
 "nbformat": 4,
 "nbformat_minor": 5
}
