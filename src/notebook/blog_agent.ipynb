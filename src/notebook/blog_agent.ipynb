{
 "cells": [
  {
   "cell_type": "markdown",
   "id": "8d0dc558-4208-4cba-adde-874b73b126e7",
   "metadata": {},
   "source": [
    "a"
   ]
  },
  {
   "cell_type": "markdown",
   "id": "504d74cf-b1ea-4ed6-a4b8-bd38da17a527",
   "metadata": {},
   "source": [
    "https://python.langchain.com/docs/tutorials/agents/"
   ]
  },
  {
   "cell_type": "code",
   "execution_count": null,
   "id": "59a0deba-9cee-400f-a362-d67c4e8a8232",
   "metadata": {},
   "outputs": [],
   "source": []
  },
  {
   "cell_type": "code",
   "execution_count": null,
   "id": "c8b2364a-0c51-4137-9303-1c5d4625fb2e",
   "metadata": {},
   "outputs": [],
   "source": [
    "%pip install -U langchain-community langgraph langchain-anthropic tavily-python langgraph-checkpoint-sqlite --quiet"
   ]
  },
  {
   "cell_type": "code",
   "execution_count": 27,
   "id": "9875154d-4be9-4ed5-930c-753a6cc88a81",
   "metadata": {},
   "outputs": [
    {
     "name": "stdout",
     "output_type": "stream",
     "text": [
      "Note: you may need to restart the kernel to use updated packages.\n"
     ]
    },
    {
     "name": "stderr",
     "output_type": "stream",
     "text": [
      "WARNING: There was an error checking the latest version of pip.\n"
     ]
    }
   ],
   "source": [
    "pip install -U langchain-google-vertexai --quiet"
   ]
  },
  {
   "cell_type": "code",
   "execution_count": null,
   "id": "8f017390-1c72-4b74-8a16-8592f392c32f",
   "metadata": {},
   "outputs": [],
   "source": []
  },
  {
   "cell_type": "code",
   "execution_count": null,
   "id": "ef868296-87a2-479f-96b6-4b4ab8380570",
   "metadata": {},
   "outputs": [],
   "source": []
  },
  {
   "cell_type": "code",
   "execution_count": 51,
   "id": "4e4587c3-baba-4bd1-a56f-8f46ade62f46",
   "metadata": {},
   "outputs": [],
   "source": [
    "import os\n",
    "from dotenv import load_dotenv\n",
    "from langchain_community.tools.tavily_search import TavilySearchResults\n",
    "from langchain.chat_models import init_chat_model\n",
    "from langchain_core.messages import HumanMessage\n",
    "from langgraph.prebuilt import create_react_agent\n",
    "from langgraph.checkpoint.memory import MemorySaver"
   ]
  },
  {
   "cell_type": "code",
   "execution_count": null,
   "id": "23382948-e652-4e79-a3ea-4a75da6475a7",
   "metadata": {},
   "outputs": [],
   "source": []
  },
  {
   "cell_type": "code",
   "execution_count": null,
   "id": "4bbe6280-d25c-477e-bd54-713447678e1c",
   "metadata": {},
   "outputs": [],
   "source": []
  },
  {
   "cell_type": "code",
   "execution_count": null,
   "id": "4fee4b34-c1a9-488a-a259-9d8320ad2605",
   "metadata": {},
   "outputs": [],
   "source": []
  },
  {
   "cell_type": "code",
   "execution_count": null,
   "id": "569fac0c-fa3a-42a0-8023-055c0f68b88d",
   "metadata": {},
   "outputs": [],
   "source": []
  },
  {
   "cell_type": "code",
   "execution_count": null,
   "id": "5b70552c-37ef-45e8-8cd5-a3a16027b2a2",
   "metadata": {},
   "outputs": [],
   "source": []
  },
  {
   "cell_type": "code",
   "execution_count": null,
   "id": "afea39a1-8995-4317-b245-633c527d72ed",
   "metadata": {},
   "outputs": [],
   "source": []
  },
  {
   "cell_type": "code",
   "execution_count": 47,
   "id": "f062b5ae-ea1d-4656-a9de-1ad99efbde16",
   "metadata": {},
   "outputs": [
    {
     "data": {
      "text/plain": [
       "True"
      ]
     },
     "execution_count": 47,
     "metadata": {},
     "output_type": "execute_result"
    }
   ],
   "source": [
    "load_dotenv()"
   ]
  },
  {
   "cell_type": "code",
   "execution_count": 48,
   "id": "0570c946-0c94-4110-879c-72a08e28d828",
   "metadata": {},
   "outputs": [],
   "source": [
    "assert \"LANGSMITH_TRACING\" in os.environ, \"Please set the LANGSMITH_TRACING environment variable.\"\n",
    "assert \"LANGSMITH_API_KEY\" in os.environ, \"Please set the LANGSMITH_API_KEY environment variable.\"\n",
    "assert \"TAVILY_API_KEY\" in os.environ, \"Please set the TAVILY_API_KEY environment variable.\""
   ]
  },
  {
   "cell_type": "code",
   "execution_count": null,
   "id": "158f18e7-0df0-458b-8ffc-76399f128615",
   "metadata": {},
   "outputs": [],
   "source": []
  },
  {
   "cell_type": "code",
   "execution_count": null,
   "id": "38b2e0bc-cc29-4e2c-b7fe-d5a78beffae0",
   "metadata": {},
   "outputs": [],
   "source": []
  },
  {
   "cell_type": "code",
   "execution_count": 25,
   "id": "2b3413fc-323f-4299-9c48-92e181467ccd",
   "metadata": {},
   "outputs": [
    {
     "name": "stdout",
     "output_type": "stream",
     "text": [
      "[{'title': 'Weather in San Francisco', 'url': 'https://www.weatherapi.com/', 'content': \"{'location': {'name': 'San Francisco', 'region': 'California', 'country': 'United States of America', 'lat': 37.775, 'lon': -122.4183, 'tz_id': 'America/Los_Angeles', 'localtime_epoch': 1741603417, 'localtime': '2025-03-10 03:43'}, 'current': {'last_updated_epoch': 1741602600, 'last_updated': '2025-03-10 03:30', 'temp_c': 6.7, 'temp_f': 44.1, 'is_day': 0, 'condition': {'text': 'Partly cloudy', 'icon': '//cdn.weatherapi.com/weather/64x64/night/116.png', 'code': 1003}, 'wind_mph': 3.6, 'wind_kph': 5.8, 'wind_degree': 352, 'wind_dir': 'N', 'pressure_mb': 1016.0, 'pressure_in': 30.01, 'precip_mm': 0.0, 'precip_in': 0.0, 'humidity': 79, 'cloud': 50, 'feelslike_c': 5.8, 'feelslike_f': 42.4, 'windchill_c': 8.1, 'windchill_f': 46.7, 'heatindex_c': 8.1, 'heatindex_f': 46.5, 'dewpoint_c': 7.7, 'dewpoint_f': 45.8, 'vis_km': 16.0, 'vis_miles': 9.0, 'uv': 0.0, 'gust_mph': 5.8, 'gust_kph': 9.4}}\", 'score': 0.8836137}, {'title': 'Weather in San Francisco in March 2025 (California)', 'url': 'https://world-weather.info/forecast/usa/san_francisco/march-2025/', 'content': \"Weather in San Francisco in March 2025 (California) - Detailed Weather Forecast for a Month Weather in San Francisco Weather in San Francisco in March 2025 San Francisco Weather Forecast for March 2025 is based on long term prognosis and previous years' statistical data. 1 +54°+52° 2 +54°+50° 3 +54°+50° 4 +54°+48° 5 +61°+46° +59°+50° +59°+50° +61°+50° +61°+52° +61°+52° +63°+52° +63°+52° +61°+52° +61°+52° +63°+54° +61°+52° +63°+50° +61°+52° +61°+52° +59°+52° +61°+52° +59°+50° +57°+50° +57°+50° +59°+50° +59°+50° +61°+52° +63°+52° +63°+54° +63°+52° +63°+54° Extended weather forecast in San Francisco HourlyWeek10-Day14-Day30-DayYear Weather in Washington, D.C.+32° Sacramento+55° Pleasanton+52° Redwood City+55° San Leandro+55° San Mateo+54° San Rafael+55° San Ramon+52° South San Francisco+54° Vallejo+54° Palo Alto+55° Pacifica+55° Berkeley+57° Castro Valley+54° Concord+54° Daly City+54° Lagunitas+55° world's temperature today day day Temperature units\", 'score': 0.86136365}]\n"
     ]
    }
   ],
   "source": [
    "search = TavilySearchResults(max_results=2)\n",
    "search_results = search.invoke(\"what is the weather in SF\")\n",
    "print(search_results)\n",
    "tools = [search]"
   ]
  },
  {
   "cell_type": "code",
   "execution_count": null,
   "id": "269486c3-10f3-42c7-bc09-e01815244e6d",
   "metadata": {},
   "outputs": [],
   "source": []
  },
  {
   "cell_type": "code",
   "execution_count": null,
   "id": "27eac0c0-eb9a-4477-9651-706c9c656c5f",
   "metadata": {},
   "outputs": [],
   "source": []
  },
  {
   "cell_type": "code",
   "execution_count": 30,
   "id": "33b879b4-96bc-4072-9472-6495c811a9dd",
   "metadata": {},
   "outputs": [],
   "source": [
    "model = init_chat_model(\"gemini-2.0-flash-001\", model_provider=\"google_vertexai\")"
   ]
  },
  {
   "cell_type": "code",
   "execution_count": null,
   "id": "7e882f1c-3206-48b6-98a7-c60596088a09",
   "metadata": {},
   "outputs": [],
   "source": []
  },
  {
   "cell_type": "code",
   "execution_count": null,
   "id": "6c5d335d-7930-408a-a388-5f1b6b2d6622",
   "metadata": {},
   "outputs": [],
   "source": []
  },
  {
   "cell_type": "code",
   "execution_count": 33,
   "id": "106f0836-f5a7-4180-babf-7753b22e3aae",
   "metadata": {},
   "outputs": [
    {
     "data": {
      "text/plain": [
       "'Hi there! How can I help you today?\\n'"
      ]
     },
     "execution_count": 33,
     "metadata": {},
     "output_type": "execute_result"
    }
   ],
   "source": [
    "response = model.invoke([HumanMessage(content=\"hi!\")])\n",
    "response.content"
   ]
  },
  {
   "cell_type": "code",
   "execution_count": null,
   "id": "0fe81394-80d0-44e0-a74f-768f1f14215e",
   "metadata": {},
   "outputs": [],
   "source": []
  },
  {
   "cell_type": "code",
   "execution_count": 34,
   "id": "318ab4db-506a-450d-bc1a-9403f2525b29",
   "metadata": {},
   "outputs": [],
   "source": [
    "model_with_tools = model.bind_tools(tools)"
   ]
  },
  {
   "cell_type": "code",
   "execution_count": null,
   "id": "546025cf-62e6-4576-9aff-486eaba7c13b",
   "metadata": {},
   "outputs": [],
   "source": []
  },
  {
   "cell_type": "code",
   "execution_count": null,
   "id": "93c09b6a-32da-4d5a-a835-34d69c06991f",
   "metadata": {},
   "outputs": [],
   "source": []
  },
  {
   "cell_type": "code",
   "execution_count": 35,
   "id": "31c7297f-d79b-494e-b891-8b3d8decec4a",
   "metadata": {},
   "outputs": [
    {
     "name": "stdout",
     "output_type": "stream",
     "text": [
      "ContentString: Hi there! How can I help you today?\n",
      "\n",
      "ToolCalls: []\n"
     ]
    }
   ],
   "source": [
    "response = model_with_tools.invoke([HumanMessage(content=\"Hi!\")])\n",
    "\n",
    "print(f\"ContentString: {response.content}\")\n",
    "print(f\"ToolCalls: {response.tool_calls}\")"
   ]
  },
  {
   "cell_type": "code",
   "execution_count": null,
   "id": "9ed099de-f16a-455a-8cb1-3ba050209346",
   "metadata": {},
   "outputs": [],
   "source": []
  },
  {
   "cell_type": "code",
   "execution_count": null,
   "id": "e21d0a57-ff26-4e14-a428-a31f1fd8e061",
   "metadata": {},
   "outputs": [],
   "source": []
  },
  {
   "cell_type": "code",
   "execution_count": 36,
   "id": "83712021-7d3c-42c1-aa22-b3f5c4a82b5e",
   "metadata": {},
   "outputs": [
    {
     "name": "stdout",
     "output_type": "stream",
     "text": [
      "ContentString: \n",
      "ToolCalls: [{'name': 'tavily_search_results_json', 'args': {'query': 'weather in San Francisco'}, 'id': 'f0e9c69b-b5e0-4004-bcb2-9463f4bd43d5', 'type': 'tool_call'}]\n"
     ]
    }
   ],
   "source": [
    "response = model_with_tools.invoke([HumanMessage(content=\"What's the weather in SF?\")])\n",
    "\n",
    "print(f\"ContentString: {response.content}\")\n",
    "print(f\"ToolCalls: {response.tool_calls}\")"
   ]
  },
  {
   "cell_type": "code",
   "execution_count": null,
   "id": "0a0f4fef-7793-4c93-9882-e2b0ff30f6e5",
   "metadata": {},
   "outputs": [],
   "source": []
  },
  {
   "cell_type": "code",
   "execution_count": null,
   "id": "6724dc12-8a98-4f94-b8ed-78088c8f9385",
   "metadata": {},
   "outputs": [],
   "source": []
  },
  {
   "cell_type": "code",
   "execution_count": 38,
   "id": "24e6d714-ea62-4096-95bd-b79949078a54",
   "metadata": {},
   "outputs": [],
   "source": [
    "agent_executor = create_react_agent(model, tools)"
   ]
  },
  {
   "cell_type": "code",
   "execution_count": null,
   "id": "ad885013-b2dd-44ca-b609-ea0282889305",
   "metadata": {},
   "outputs": [],
   "source": []
  },
  {
   "cell_type": "code",
   "execution_count": null,
   "id": "e719de0b-5bb2-40d2-9fef-7d639faad4d5",
   "metadata": {},
   "outputs": [],
   "source": []
  },
  {
   "cell_type": "code",
   "execution_count": 39,
   "id": "eae22b3a-7846-4c1f-855c-680af3575e7c",
   "metadata": {},
   "outputs": [
    {
     "data": {
      "text/plain": [
       "[HumanMessage(content='hi!', additional_kwargs={}, response_metadata={}, id='5cd03ad0-0d75-4d63-8579-7a8c3138d3fa'),\n",
       " AIMessage(content='Hi there! How can I help you today?\\n', additional_kwargs={}, response_metadata={'is_blocked': False, 'safety_ratings': [], 'usage_metadata': {'prompt_token_count': 49, 'candidates_token_count': 11, 'total_token_count': 60, 'prompt_tokens_details': [{'modality': 1, 'token_count': 49}], 'candidates_tokens_details': [{'modality': 1, 'token_count': 11}], 'cached_content_token_count': 0, 'cache_tokens_details': []}, 'finish_reason': 'STOP', 'avg_logprobs': -0.005166638981212269}, id='run-0903bb94-9a17-41c9-9e7e-445bc8327639-0', usage_metadata={'input_tokens': 49, 'output_tokens': 11, 'total_tokens': 60})]"
      ]
     },
     "execution_count": 39,
     "metadata": {},
     "output_type": "execute_result"
    }
   ],
   "source": [
    "response = agent_executor.invoke({\"messages\": [HumanMessage(content=\"hi!\")]})\n",
    "\n",
    "response[\"messages\"]"
   ]
  },
  {
   "cell_type": "code",
   "execution_count": 44,
   "id": "3790532f-8bf7-490c-89e8-3fb759ff7600",
   "metadata": {},
   "outputs": [
    {
     "data": {
      "text/plain": [
       "HumanMessage(content='hi!', additional_kwargs={}, response_metadata={}, id='5cd03ad0-0d75-4d63-8579-7a8c3138d3fa')"
      ]
     },
     "execution_count": 44,
     "metadata": {},
     "output_type": "execute_result"
    }
   ],
   "source": [
    "response[\"messages\"][0]"
   ]
  },
  {
   "cell_type": "code",
   "execution_count": 45,
   "id": "d3fd65dc-fc45-49d2-85cc-87e445d253cf",
   "metadata": {},
   "outputs": [
    {
     "data": {
      "text/plain": [
       "AIMessage(content='Hi there! How can I help you today?\\n', additional_kwargs={}, response_metadata={'is_blocked': False, 'safety_ratings': [], 'usage_metadata': {'prompt_token_count': 49, 'candidates_token_count': 11, 'total_token_count': 60, 'prompt_tokens_details': [{'modality': 1, 'token_count': 49}], 'candidates_tokens_details': [{'modality': 1, 'token_count': 11}], 'cached_content_token_count': 0, 'cache_tokens_details': []}, 'finish_reason': 'STOP', 'avg_logprobs': -0.005166638981212269}, id='run-0903bb94-9a17-41c9-9e7e-445bc8327639-0', usage_metadata={'input_tokens': 49, 'output_tokens': 11, 'total_tokens': 60})"
      ]
     },
     "execution_count": 45,
     "metadata": {},
     "output_type": "execute_result"
    }
   ],
   "source": [
    "response[\"messages\"][1]"
   ]
  },
  {
   "cell_type": "code",
   "execution_count": null,
   "id": "31ce1410-6f29-47c4-9553-0b0310854836",
   "metadata": {},
   "outputs": [],
   "source": []
  },
  {
   "cell_type": "code",
   "execution_count": null,
   "id": "adb37942-249a-44e7-8dc4-77f9cbf31517",
   "metadata": {},
   "outputs": [],
   "source": []
  },
  {
   "cell_type": "code",
   "execution_count": 46,
   "id": "52cad648-c1be-4e0d-9b10-36cce4573f18",
   "metadata": {},
   "outputs": [
    {
     "data": {
      "text/plain": [
       "[HumanMessage(content='whats the weather in sf?', additional_kwargs={}, response_metadata={}, id='a7e4118f-8fc4-4f22-bfc9-8a2d7c717c27'),\n",
       " AIMessage(content='', additional_kwargs={'function_call': {'name': 'tavily_search_results_json', 'arguments': '{\"query\": \"weather in San Francisco\"}'}}, response_metadata={'is_blocked': False, 'safety_ratings': [], 'usage_metadata': {'prompt_token_count': 53, 'candidates_token_count': 13, 'total_token_count': 66, 'prompt_tokens_details': [{'modality': 1, 'token_count': 53}], 'candidates_tokens_details': [{'modality': 1, 'token_count': 13}], 'cached_content_token_count': 0, 'cache_tokens_details': []}, 'finish_reason': 'STOP', 'avg_logprobs': -0.00017368059175518842}, id='run-e48eaac3-3054-44a0-969e-4065181bcd60-0', tool_calls=[{'name': 'tavily_search_results_json', 'args': {'query': 'weather in San Francisco'}, 'id': '4a1f8fbb-20a7-4f1e-9cf0-a99575b3a229', 'type': 'tool_call'}], usage_metadata={'input_tokens': 53, 'output_tokens': 13, 'total_tokens': 66}),\n",
       " ToolMessage(content='[{\"title\": \"Weather in San Francisco\", \"url\": \"https://www.weatherapi.com/\", \"content\": \"{\\'location\\': {\\'name\\': \\'San Francisco\\', \\'region\\': \\'California\\', \\'country\\': \\'United States of America\\', \\'lat\\': 37.775, \\'lon\\': -122.4183, \\'tz_id\\': \\'America/Los_Angeles\\', \\'localtime_epoch\\': 1741629281, \\'localtime\\': \\'2025-03-10 10:54\\'}, \\'current\\': {\\'last_updated_epoch\\': 1741628700, \\'last_updated\\': \\'2025-03-10 10:45\\', \\'temp_c\\': 10.6, \\'temp_f\\': 51.1, \\'is_day\\': 1, \\'condition\\': {\\'text\\': \\'Partly cloudy\\', \\'icon\\': \\'//cdn.weatherapi.com/weather/64x64/day/116.png\\', \\'code\\': 1003}, \\'wind_mph\\': 3.8, \\'wind_kph\\': 6.1, \\'wind_degree\\': 26, \\'wind_dir\\': \\'NNE\\', \\'pressure_mb\\': 1016.0, \\'pressure_in\\': 29.99, \\'precip_mm\\': 0.0, \\'precip_in\\': 0.0, \\'humidity\\': 68, \\'cloud\\': 75, \\'feelslike_c\\': 10.1, \\'feelslike_f\\': 50.2, \\'windchill_c\\': 10.8, \\'windchill_f\\': 51.4, \\'heatindex_c\\': 10.7, \\'heatindex_f\\': 51.3, \\'dewpoint_c\\': 6.8, \\'dewpoint_f\\': 44.2, \\'vis_km\\': 16.0, \\'vis_miles\\': 9.0, \\'uv\\': 1.2, \\'gust_mph\\': 5.1, \\'gust_kph\\': 8.2}}\", \"score\": 0.9725268}, {\"title\": \"Weather in San Francisco in March 2025 (California)\", \"url\": \"https://world-weather.info/forecast/usa/san_francisco/march-2025/\", \"content\": \"Weather in San Francisco in March 2025 (California) - Detailed Weather Forecast for a Month Weather in San Francisco Weather in San Francisco in March 2025 San Francisco Weather Forecast for March 2025 is based on long term prognosis and previous years\\' statistical data. 1 +54°+52° 2 +54°+50° 3 +54°+50° 4 +54°+48° 5 +61°+46° +59°+50° +59°+50° +61°+50° +61°+52° +61°+52° +63°+52° +63°+52° +61°+52° +61°+52° +63°+54° +61°+52° +63°+50° +61°+52° +61°+52° +59°+52° +61°+52° +59°+50° +57°+50° +57°+50° +59°+50° +59°+50° +61°+52° +63°+52° +63°+54° +63°+52° +63°+54° Extended weather forecast in San Francisco HourlyWeek10-Day14-Day30-DayYear Weather in Washington, D.C.+32° Sacramento+55° Pleasanton+52° Redwood City+55° San Leandro+55° San Mateo+54° San Rafael+55° San Ramon+52° South San Francisco+54° Vallejo+54° Palo Alto+55° Pacifica+55° Berkeley+57° Castro Valley+54° Concord+54° Daly City+54° Lagunitas+55° world\\'s temperature today day day Temperature units\", \"score\": 0.9163571}]', name='tavily_search_results_json', id='7ae17c0a-0fb0-49ab-b536-37a02b7b91c2', tool_call_id='4a1f8fbb-20a7-4f1e-9cf0-a99575b3a229', artifact={'query': 'weather in San Francisco', 'follow_up_questions': None, 'answer': None, 'images': [], 'results': [{'title': 'Weather in San Francisco', 'url': 'https://www.weatherapi.com/', 'content': \"{'location': {'name': 'San Francisco', 'region': 'California', 'country': 'United States of America', 'lat': 37.775, 'lon': -122.4183, 'tz_id': 'America/Los_Angeles', 'localtime_epoch': 1741629281, 'localtime': '2025-03-10 10:54'}, 'current': {'last_updated_epoch': 1741628700, 'last_updated': '2025-03-10 10:45', 'temp_c': 10.6, 'temp_f': 51.1, 'is_day': 1, 'condition': {'text': 'Partly cloudy', 'icon': '//cdn.weatherapi.com/weather/64x64/day/116.png', 'code': 1003}, 'wind_mph': 3.8, 'wind_kph': 6.1, 'wind_degree': 26, 'wind_dir': 'NNE', 'pressure_mb': 1016.0, 'pressure_in': 29.99, 'precip_mm': 0.0, 'precip_in': 0.0, 'humidity': 68, 'cloud': 75, 'feelslike_c': 10.1, 'feelslike_f': 50.2, 'windchill_c': 10.8, 'windchill_f': 51.4, 'heatindex_c': 10.7, 'heatindex_f': 51.3, 'dewpoint_c': 6.8, 'dewpoint_f': 44.2, 'vis_km': 16.0, 'vis_miles': 9.0, 'uv': 1.2, 'gust_mph': 5.1, 'gust_kph': 8.2}}\", 'score': 0.9725268, 'raw_content': None}, {'url': 'https://world-weather.info/forecast/usa/san_francisco/march-2025/', 'title': 'Weather in San Francisco in March 2025 (California)', 'content': \"Weather in San Francisco in March 2025 (California) - Detailed Weather Forecast for a Month Weather in San Francisco Weather in San Francisco in March 2025 San Francisco Weather Forecast for March 2025 is based on long term prognosis and previous years' statistical data. 1 +54°+52° 2 +54°+50° 3 +54°+50° 4 +54°+48° 5 +61°+46° +59°+50° +59°+50° +61°+50° +61°+52° +61°+52° +63°+52° +63°+52° +61°+52° +61°+52° +63°+54° +61°+52° +63°+50° +61°+52° +61°+52° +59°+52° +61°+52° +59°+50° +57°+50° +57°+50° +59°+50° +59°+50° +61°+52° +63°+52° +63°+54° +63°+52° +63°+54° Extended weather forecast in San Francisco HourlyWeek10-Day14-Day30-DayYear Weather in Washington, D.C.+32° Sacramento+55° Pleasanton+52° Redwood City+55° San Leandro+55° San Mateo+54° San Rafael+55° San Ramon+52° South San Francisco+54° Vallejo+54° Palo Alto+55° Pacifica+55° Berkeley+57° Castro Valley+54° Concord+54° Daly City+54° Lagunitas+55° world's temperature today day day Temperature units\", 'score': 0.9163571, 'raw_content': None}], 'response_time': 1.14}),\n",
       " AIMessage(content='The weather in San Francisco is partly cloudy with a temperature of 51.1°F (10.6°C). The wind is coming from the NNE at 3.8 mph. The humidity is 68%.', additional_kwargs={}, response_metadata={'is_blocked': False, 'safety_ratings': [], 'usage_metadata': {'prompt_token_count': 1099, 'candidates_token_count': 49, 'total_token_count': 1148, 'prompt_tokens_details': [{'modality': 1, 'token_count': 1099}], 'candidates_tokens_details': [{'modality': 1, 'token_count': 49}], 'cached_content_token_count': 0, 'cache_tokens_details': []}, 'finish_reason': 'STOP', 'avg_logprobs': -0.05371997794326471}, id='run-c368a50d-cfa9-47b5-b86c-b0f619e9aeb2-0', usage_metadata={'input_tokens': 1099, 'output_tokens': 49, 'total_tokens': 1148})]"
      ]
     },
     "execution_count": 46,
     "metadata": {},
     "output_type": "execute_result"
    }
   ],
   "source": [
    "response = agent_executor.invoke(\n",
    "    {\"messages\": [HumanMessage(content=\"whats the weather in sf?\")]}\n",
    ")\n",
    "response[\"messages\"]"
   ]
  },
  {
   "cell_type": "code",
   "execution_count": null,
   "id": "c760fb0e-de3f-48ab-b06a-81d9f663cc74",
   "metadata": {},
   "outputs": [],
   "source": []
  },
  {
   "cell_type": "code",
   "execution_count": null,
   "id": "79165d98-1e1a-41cd-99ee-a870200dc8ea",
   "metadata": {},
   "outputs": [],
   "source": []
  },
  {
   "cell_type": "code",
   "execution_count": 49,
   "id": "1cba90c9-aee2-4d7f-ae7a-2a3e402c4451",
   "metadata": {},
   "outputs": [
    {
     "name": "stdout",
     "output_type": "stream",
     "text": [
      "================================\u001b[1m Human Message \u001b[0m=================================\n",
      "\n",
      "whats the weather in sf?\n",
      "==================================\u001b[1m Ai Message \u001b[0m==================================\n",
      "Tool Calls:\n",
      "  tavily_search_results_json (a54ec707-e375-41dd-a37b-4babe812e9cd)\n",
      " Call ID: a54ec707-e375-41dd-a37b-4babe812e9cd\n",
      "  Args:\n",
      "    query: weather in San Francisco\n",
      "=================================\u001b[1m Tool Message \u001b[0m=================================\n",
      "Name: tavily_search_results_json\n",
      "\n",
      "[{\"title\": \"Weather in San Francisco\", \"url\": \"https://www.weatherapi.com/\", \"content\": \"{'location': {'name': 'San Francisco', 'region': 'California', 'country': 'United States of America', 'lat': 37.775, 'lon': -122.4183, 'tz_id': 'America/Los_Angeles', 'localtime_epoch': 1741629281, 'localtime': '2025-03-10 10:54'}, 'current': {'last_updated_epoch': 1741628700, 'last_updated': '2025-03-10 10:45', 'temp_c': 10.6, 'temp_f': 51.1, 'is_day': 1, 'condition': {'text': 'Partly cloudy', 'icon': '//cdn.weatherapi.com/weather/64x64/day/116.png', 'code': 1003}, 'wind_mph': 3.8, 'wind_kph': 6.1, 'wind_degree': 26, 'wind_dir': 'NNE', 'pressure_mb': 1016.0, 'pressure_in': 29.99, 'precip_mm': 0.0, 'precip_in': 0.0, 'humidity': 68, 'cloud': 75, 'feelslike_c': 10.1, 'feelslike_f': 50.2, 'windchill_c': 10.8, 'windchill_f': 51.4, 'heatindex_c': 10.7, 'heatindex_f': 51.3, 'dewpoint_c': 6.8, 'dewpoint_f': 44.2, 'vis_km': 16.0, 'vis_miles': 9.0, 'uv': 1.2, 'gust_mph': 5.1, 'gust_kph': 8.2}}\", \"score\": 0.9725268}, {\"title\": \"Weather in San Francisco in March 2025 (California)\", \"url\": \"https://world-weather.info/forecast/usa/san_francisco/march-2025/\", \"content\": \"Weather in San Francisco in March 2025 (California) - Detailed Weather Forecast for a Month Weather in San Francisco Weather in San Francisco in March 2025 San Francisco Weather Forecast for March 2025 is based on long term prognosis and previous years' statistical data. 1 +54°+52° 2 +54°+50° 3 +54°+50° 4 +54°+48° 5 +61°+46° +59°+50° +59°+50° +61°+50° +61°+52° +61°+52° +63°+52° +63°+52° +61°+52° +61°+52° +63°+54° +61°+52° +63°+50° +61°+52° +61°+52° +59°+52° +61°+52° +59°+50° +57°+50° +57°+50° +59°+50° +59°+50° +61°+52° +63°+52° +63°+54° +63°+52° +63°+54° Extended weather forecast in San Francisco HourlyWeek10-Day14-Day30-DayYear Weather in Washington, D.C.+32° Sacramento+55° Pleasanton+52° Redwood City+55° San Leandro+55° San Mateo+54° San Rafael+55° San Ramon+52° South San Francisco+54° Vallejo+54° Palo Alto+55° Pacifica+55° Berkeley+57° Castro Valley+54° Concord+54° Daly City+54° Lagunitas+55° world's temperature today day day Temperature units\", \"score\": 0.9163571}]\n",
      "==================================\u001b[1m Ai Message \u001b[0m==================================\n",
      "\n",
      "The weather in San Francisco is partly cloudy with a temperature of 51.1°F (10.6°C). The wind is coming from the NNE at 3.8 mph. The humidity is 68%.\n"
     ]
    }
   ],
   "source": [
    "for step in agent_executor.stream(\n",
    "    {\"messages\": [HumanMessage(content=\"whats the weather in sf?\")]},\n",
    "    stream_mode=\"values\",\n",
    "):\n",
    "    step[\"messages\"][-1].pretty_print()"
   ]
  },
  {
   "cell_type": "code",
   "execution_count": null,
   "id": "2b37b82b-18e3-4c06-830b-87dea0b5e963",
   "metadata": {},
   "outputs": [],
   "source": []
  },
  {
   "cell_type": "code",
   "execution_count": 50,
   "id": "159ff289-2900-4a29-8fa7-a4c024acd6ea",
   "metadata": {},
   "outputs": [
    {
     "name": "stdout",
     "output_type": "stream",
     "text": [
      "The| weather in San| Francisco is partly cloudy with a temperature of 51.1°F (10|.6°C). The wind is coming from the NNE at 3|.8 mph.|"
     ]
    }
   ],
   "source": [
    "for step, metadata in agent_executor.stream(\n",
    "    {\"messages\": [HumanMessage(content=\"whats the weather in sf?\")]},\n",
    "    stream_mode=\"messages\",\n",
    "):\n",
    "    if metadata[\"langgraph_node\"] == \"agent\" and (text := step.text()):\n",
    "        print(text, end=\"|\")"
   ]
  },
  {
   "cell_type": "code",
   "execution_count": null,
   "id": "2308a93b-5fda-4e29-a29d-d5706473a58c",
   "metadata": {},
   "outputs": [],
   "source": []
  },
  {
   "cell_type": "code",
   "execution_count": 52,
   "id": "a9a4313f-3d44-45e9-bc6e-3deb00029198",
   "metadata": {},
   "outputs": [],
   "source": [
    "memory = MemorySaver()"
   ]
  },
  {
   "cell_type": "code",
   "execution_count": null,
   "id": "d9a5b07f-1523-4a87-ad09-f1c11dfcbaa3",
   "metadata": {},
   "outputs": [],
   "source": []
  },
  {
   "cell_type": "code",
   "execution_count": 53,
   "id": "e24c7262-3ac7-40ee-878d-87b4bb194044",
   "metadata": {},
   "outputs": [],
   "source": [
    "agent_executor = create_react_agent(model, tools, checkpointer=memory)\n",
    "\n",
    "config = {\"configurable\": {\"thread_id\": \"abc123\"}}"
   ]
  },
  {
   "cell_type": "code",
   "execution_count": null,
   "id": "c914db99-ba8a-4e8c-99a2-145293971842",
   "metadata": {},
   "outputs": [],
   "source": []
  },
  {
   "cell_type": "code",
   "execution_count": null,
   "id": "09ab74e6-40e9-4da6-87ab-cc722d8ed538",
   "metadata": {},
   "outputs": [],
   "source": []
  },
  {
   "cell_type": "code",
   "execution_count": 54,
   "id": "b0e32b2b-eb05-43db-910a-b5ae8d9ddcb1",
   "metadata": {},
   "outputs": [
    {
     "name": "stdout",
     "output_type": "stream",
     "text": [
      "{'agent': {'messages': [AIMessage(content='Hi Bob! How can I help you today?\\n', additional_kwargs={}, response_metadata={'is_blocked': False, 'safety_ratings': [], 'usage_metadata': {'prompt_token_count': 51, 'candidates_token_count': 11, 'total_token_count': 62, 'prompt_tokens_details': [{'modality': 1, 'token_count': 51}], 'candidates_tokens_details': [{'modality': 1, 'token_count': 11}], 'cached_content_token_count': 0, 'cache_tokens_details': []}, 'finish_reason': 'STOP', 'avg_logprobs': -0.06646347045898438}, id='run-e89d9cc7-203c-4526-9718-ddac055e4253-0', usage_metadata={'input_tokens': 51, 'output_tokens': 11, 'total_tokens': 62})]}}\n",
      "----\n"
     ]
    }
   ],
   "source": [
    "for chunk in agent_executor.stream(\n",
    "    {\"messages\": [HumanMessage(content=\"hi im bob!\")]}, config\n",
    "):\n",
    "    print(chunk)\n",
    "    print(\"----\")"
   ]
  },
  {
   "cell_type": "code",
   "execution_count": null,
   "id": "14e69ac6-a5d7-47f9-af22-7d38b790ca58",
   "metadata": {},
   "outputs": [],
   "source": []
  },
  {
   "cell_type": "code",
   "execution_count": null,
   "id": "12478970-77ec-4189-9084-85f203ed6f49",
   "metadata": {},
   "outputs": [],
   "source": []
  },
  {
   "cell_type": "code",
   "execution_count": null,
   "id": "5fdd9946-565a-4c8b-9739-42c86342b689",
   "metadata": {},
   "outputs": [],
   "source": []
  },
  {
   "cell_type": "code",
   "execution_count": null,
   "id": "c2b7168f-f4d7-4ced-b512-48560d6ab30e",
   "metadata": {},
   "outputs": [],
   "source": []
  },
  {
   "cell_type": "code",
   "execution_count": null,
   "id": "42bda50b-2a36-4701-80f2-6b3f18ceef0a",
   "metadata": {},
   "outputs": [],
   "source": []
  },
  {
   "cell_type": "code",
   "execution_count": null,
   "id": "b19a5eef-3097-4ea5-975e-a16d35b66d54",
   "metadata": {},
   "outputs": [],
   "source": []
  },
  {
   "cell_type": "code",
   "execution_count": null,
   "id": "bc7a7dc0-46ae-490f-9a00-58db1d3ad077",
   "metadata": {},
   "outputs": [],
   "source": []
  },
  {
   "cell_type": "code",
   "execution_count": null,
   "id": "004bbfda-aaaa-4c76-a7b7-1d6047ed0ba7",
   "metadata": {},
   "outputs": [],
   "source": []
  },
  {
   "cell_type": "code",
   "execution_count": null,
   "id": "225a191f-e010-4212-bf9a-9b2355e59b7b",
   "metadata": {},
   "outputs": [],
   "source": []
  },
  {
   "cell_type": "code",
   "execution_count": null,
   "id": "6bcbe528-3335-4ba7-bf68-bc3c2b2c26b0",
   "metadata": {},
   "outputs": [],
   "source": []
  },
  {
   "cell_type": "code",
   "execution_count": null,
   "id": "8135c1d9-0269-45e2-8bd2-f354ee8e7bc5",
   "metadata": {},
   "outputs": [],
   "source": []
  },
  {
   "cell_type": "code",
   "execution_count": null,
   "id": "1f39c484-eefe-4327-9d53-6f7ba0dc9700",
   "metadata": {},
   "outputs": [],
   "source": []
  }
 ],
 "metadata": {
  "kernelspec": {
   "display_name": "Python 3 (ipykernel)",
   "language": "python",
   "name": "python3"
  },
  "language_info": {
   "codemirror_mode": {
    "name": "ipython",
    "version": 3
   },
   "file_extension": ".py",
   "mimetype": "text/x-python",
   "name": "python",
   "nbconvert_exporter": "python",
   "pygments_lexer": "ipython3",
   "version": "3.12.1"
  }
 },
 "nbformat": 4,
 "nbformat_minor": 5
}
